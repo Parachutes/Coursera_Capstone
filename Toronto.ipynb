{
 "cells": [
  {
   "cell_type": "markdown",
   "metadata": {
    "collapsed": true,
    "pycharm": {
     "name": "#%% md\n"
    }
   },
   "source": [
    "### Segmenting and Clustering Neighborhoods in Toronto Part I\n",
    "#### Collect data\n",
    "****"
   ]
  },
  {
   "cell_type": "code",
   "execution_count": 196,
   "outputs": [],
   "source": [
    "import requests\n",
    "import lxml.html as lh\n",
    "import pandas as pd\n",
    "\n",
    "from matplotlib import cm\n",
    "from pandas.io.json import json_normalize\n",
    "from sklearn.cluster import KMeans\n",
    "import matplotlib.colors as colors\n",
    "\n",
    "#Get the table\n",
    "url='https://en.wikipedia.org/wiki/List_of_postal_codes_of_Canada:_M'\n",
    "page = requests.get(url)\n",
    "doc = lh.fromstring(page.content)\n",
    "tr_elements = doc.xpath('//tr')\n",
    "tr_elements = doc.xpath('//tr')\n",
    "#Create empty list\n",
    "col=[]\n",
    "i=0\n",
    "#For each row, store each first element (header) and an empty list\n",
    "for t in tr_elements[0]:\n",
    "    i+=1\n",
    "    name=t.text_content().strip('\\n')\n",
    "    col.append((name,[]))\n",
    "#Since out first row is the header, data is stored on the second row onwards\n",
    "for j in range(1,len(tr_elements)):\n",
    "    #T is our j'th row\n",
    "    T=tr_elements[j]\n",
    "    #If row is not of size 3, the //tr data is not from our table \n",
    "    if len(T)!=3:\n",
    "        break\n",
    "    #i is the index of our column\n",
    "    i=0\n",
    "    #Iterate through each element of the row\n",
    "    for t in T.iterchildren():\n",
    "        data=t.text_content() \n",
    "        #Check if row is empty\n",
    "        if i>0:\n",
    "        #Convert any numerical value to integers\n",
    "            try:\n",
    "                data=int(data)\n",
    "            except:\n",
    "                pass\n",
    "        #Append the data to the empty list of the i'th column\n",
    "        col[i][1].append(data.strip('\\n'))\n",
    "        #Increment i for the next column\n",
    "        i+=1\n",
    "Dict={title:column for (title,column) in col}\n",
    "df=pd.DataFrame(Dict)"
   ],
   "metadata": {
    "collapsed": false,
    "pycharm": {
     "name": "#%%\n",
     "is_executing": false
    }
   }
  },
  {
   "cell_type": "code",
   "execution_count": 197,
   "outputs": [],
   "source": [
    "# Remove some rows\n",
    "df = df[df['Borough'] != 'Not assigned']\n",
    "df = df[df['Borough'] != 'Canadian postal codes']"
   ],
   "metadata": {
    "collapsed": false,
    "pycharm": {
     "name": "#%%\n",
     "is_executing": false
    }
   }
  },
  {
   "cell_type": "code",
   "execution_count": 198,
   "outputs": [],
   "source": [
    "# Replace '/'\n",
    "for index, row in df.iterrows():\n",
    "    if ' / ' in row['Neighborhood']:\n",
    "        row['Neighborhood'] = row['Neighborhood'].replace(' / ', ', ')\n",
    "        \n",
    "df = df.reset_index(drop=True)"
   ],
   "metadata": {
    "collapsed": false,
    "pycharm": {
     "name": "#%%\n",
     "is_executing": false
    }
   }
  },
  {
   "cell_type": "code",
   "execution_count": 199,
   "outputs": [
    {
     "data": {
      "text/plain": "(103, 3)"
     },
     "metadata": {},
     "output_type": "execute_result",
     "execution_count": 199
    }
   ],
   "source": [
    "df.shape"
   ],
   "metadata": {
    "collapsed": false,
    "pycharm": {
     "name": "#%%\n",
     "is_executing": false
    }
   }
  },
  {
   "cell_type": "markdown",
   "source": [
    "### Segmenting and Clustering Neighborhoods in Toronto Part II\n",
    "#### Add coordinate\n",
    "****"
   ],
   "metadata": {
    "collapsed": false,
    "pycharm": {
     "name": "#%% md\n"
    }
   }
  },
  {
   "cell_type": "code",
   "execution_count": 200,
   "outputs": [
    {
     "data": {
      "text/plain": "    Postal code           Borough  \\\n0           M3A        North York   \n1           M4A        North York   \n2           M5A  Downtown Toronto   \n3           M6A        North York   \n4           M7A  Downtown Toronto   \n..          ...               ...   \n98          M8X         Etobicoke   \n99          M4Y  Downtown Toronto   \n100         M7Y      East Toronto   \n101         M8Y         Etobicoke   \n102         M8Z         Etobicoke   \n\n                                          Neighborhood   Latitude  Longitude  \n0                                            Parkwoods  43.753259 -79.329656  \n1                                     Victoria Village  43.725882 -79.315572  \n2                            Regent Park, Harbourfront  43.654260 -79.360636  \n3                     Lawrence Manor, Lawrence Heights  43.718518 -79.464763  \n4          Queen's Park, Ontario Provincial Government  43.662301 -79.389494  \n..                                                 ...        ...        ...  \n98      The Kingsway, Montgomery Road , Old Mill North  43.653654 -79.506944  \n99                                Church and Wellesley  43.665860 -79.383160  \n100              Business reply mail Processing CentrE  43.662744 -79.321558  \n101  Old Mill South, King's Mill Park, Sunnylea, Hu...  43.636258 -79.498509  \n102  Mimico NW, The Queensway West, South of Bloor,...  43.628841 -79.520999  \n\n[103 rows x 5 columns]",
      "text/html": "<div>\n<style scoped>\n    .dataframe tbody tr th:only-of-type {\n        vertical-align: middle;\n    }\n\n    .dataframe tbody tr th {\n        vertical-align: top;\n    }\n\n    .dataframe thead th {\n        text-align: right;\n    }\n</style>\n<table border=\"1\" class=\"dataframe\">\n  <thead>\n    <tr style=\"text-align: right;\">\n      <th></th>\n      <th>Postal code</th>\n      <th>Borough</th>\n      <th>Neighborhood</th>\n      <th>Latitude</th>\n      <th>Longitude</th>\n    </tr>\n  </thead>\n  <tbody>\n    <tr>\n      <th>0</th>\n      <td>M3A</td>\n      <td>North York</td>\n      <td>Parkwoods</td>\n      <td>43.753259</td>\n      <td>-79.329656</td>\n    </tr>\n    <tr>\n      <th>1</th>\n      <td>M4A</td>\n      <td>North York</td>\n      <td>Victoria Village</td>\n      <td>43.725882</td>\n      <td>-79.315572</td>\n    </tr>\n    <tr>\n      <th>2</th>\n      <td>M5A</td>\n      <td>Downtown Toronto</td>\n      <td>Regent Park, Harbourfront</td>\n      <td>43.654260</td>\n      <td>-79.360636</td>\n    </tr>\n    <tr>\n      <th>3</th>\n      <td>M6A</td>\n      <td>North York</td>\n      <td>Lawrence Manor, Lawrence Heights</td>\n      <td>43.718518</td>\n      <td>-79.464763</td>\n    </tr>\n    <tr>\n      <th>4</th>\n      <td>M7A</td>\n      <td>Downtown Toronto</td>\n      <td>Queen's Park, Ontario Provincial Government</td>\n      <td>43.662301</td>\n      <td>-79.389494</td>\n    </tr>\n    <tr>\n      <th>...</th>\n      <td>...</td>\n      <td>...</td>\n      <td>...</td>\n      <td>...</td>\n      <td>...</td>\n    </tr>\n    <tr>\n      <th>98</th>\n      <td>M8X</td>\n      <td>Etobicoke</td>\n      <td>The Kingsway, Montgomery Road , Old Mill North</td>\n      <td>43.653654</td>\n      <td>-79.506944</td>\n    </tr>\n    <tr>\n      <th>99</th>\n      <td>M4Y</td>\n      <td>Downtown Toronto</td>\n      <td>Church and Wellesley</td>\n      <td>43.665860</td>\n      <td>-79.383160</td>\n    </tr>\n    <tr>\n      <th>100</th>\n      <td>M7Y</td>\n      <td>East Toronto</td>\n      <td>Business reply mail Processing CentrE</td>\n      <td>43.662744</td>\n      <td>-79.321558</td>\n    </tr>\n    <tr>\n      <th>101</th>\n      <td>M8Y</td>\n      <td>Etobicoke</td>\n      <td>Old Mill South, King's Mill Park, Sunnylea, Hu...</td>\n      <td>43.636258</td>\n      <td>-79.498509</td>\n    </tr>\n    <tr>\n      <th>102</th>\n      <td>M8Z</td>\n      <td>Etobicoke</td>\n      <td>Mimico NW, The Queensway West, South of Bloor,...</td>\n      <td>43.628841</td>\n      <td>-79.520999</td>\n    </tr>\n  </tbody>\n</table>\n<p>103 rows × 5 columns</p>\n</div>"
     },
     "metadata": {},
     "output_type": "execute_result",
     "execution_count": 200
    }
   ],
   "source": [
    "df_coordinate = pd.read_csv('Geospatial_Coordinates.csv')\n",
    "df_join = df.join(df_coordinate.set_index('Postal Code'), on='Postal code')\n",
    "df_join"
   ],
   "metadata": {
    "collapsed": false,
    "pycharm": {
     "name": "#%%\n",
     "is_executing": false
    }
   }
  },
  {
   "cell_type": "markdown",
   "source": [
    "### Segmenting and Clustering Neighborhoods in Toronto Part III\n",
    "#### Analyze and cluster\n",
    "****"
   ],
   "metadata": {
    "collapsed": false,
    "pycharm": {
     "name": "#%% md\n",
     "is_executing": false
    }
   }
  },
  {
   "cell_type": "markdown",
   "source": [
    "#### get the coordinate of Toronto"
   ],
   "metadata": {
    "collapsed": false,
    "pycharm": {
     "name": "#%% md\n",
     "is_executing": false
    }
   }
  },
  {
   "cell_type": "code",
   "execution_count": 201,
   "outputs": [
    {
     "name": "stdout",
     "text": [
      "The geograpical coordinate of Toronto, ON, Canada are 43.6534817, -79.3839347.\n"
     ],
     "output_type": "stream"
    }
   ],
   "source": [
    "from geopy.geocoders import Nominatim\n",
    "address = 'Toronto, ON, Canada'\n",
    "geolocator = Nominatim(user_agent=\"to_explorer\")\n",
    "location = geolocator.geocode(address)\n",
    "latitude = location.latitude\n",
    "longitude = location.longitude\n",
    "print('The geograpical coordinate of Toronto, ON, Canada are {}, {}.'.format(latitude, longitude))"
   ],
   "metadata": {
    "collapsed": false,
    "pycharm": {
     "name": "#%%\n",
     "is_executing": false
    }
   }
  },
  {
   "cell_type": "markdown",
   "source": [
    "#### create a map of Toronto with all neighbours labeled on it"
   ],
   "metadata": {
    "collapsed": false,
    "pycharm": {
     "name": "#%% md\n"
    }
   }
  },
  {
   "cell_type": "code",
   "execution_count": 202,
   "outputs": [
    {
     "data": {
      "text/plain": "<folium.folium.Map at 0x12d304f90>",
      "text/html": "<div style=\"width:100%;\"><div style=\"position:relative;width:100%;height:0;padding-bottom:60%;\"><iframe src=\"about:blank\" style=\"position:absolute;width:100%;height:100%;left:0;top:0;border:none !important;\" data-html=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 onload=\"this.contentDocument.open();this.contentDocument.write(atob(this.getAttribute('data-html')));this.contentDocument.close();\" allowfullscreen webkitallowfullscreen mozallowfullscreen></iframe></div></div>"
     },
     "metadata": {},
     "output_type": "execute_result",
     "execution_count": 202
    }
   ],
   "source": [
    "import folium\n",
    "map_toronto = folium.Map(location=[latitude, longitude], zoom_start=10)\n",
    "toronto_data = df_join\n",
    "# add markers to map\n",
    "for lat, lng, borough, neighborhood in zip(toronto_data['Latitude'], toronto_data['Longitude'], toronto_data['Borough'], toronto_data['Neighborhood']):\n",
    "    label = '{}, {}'.format(neighborhood, borough)\n",
    "    label = folium.Popup(label, parse_html=True)\n",
    "    folium.CircleMarker(\n",
    "        [lat, lng],\n",
    "        radius=5,\n",
    "        popup=label,\n",
    "        color='blue',\n",
    "        fill=True,\n",
    "        fill_color='#3186cc',\n",
    "        fill_opacity=0.7,\n",
    "        parse_html=False).add_to(map_toronto)  \n",
    "map_toronto"
   ],
   "metadata": {
    "collapsed": false,
    "pycharm": {
     "name": "#%%\n",
     "is_executing": false
    }
   }
  },
  {
   "cell_type": "markdown",
   "source": [
    "#### connect to the Foursquare"
   ],
   "metadata": {
    "collapsed": false,
    "pycharm": {
     "name": "#%% md\n"
    }
   }
  },
  {
   "cell_type": "code",
   "execution_count": 203,
   "outputs": [],
   "source": [
    "# @hidden_cell\n",
    "CLIENT_ID = 'SSS2KPOGP3JYSRAXNVGMAOJQ0K4LZHN1EN2S3W2PMRSPSZ1X' \n",
    "CLIENT_SECRET = 'ZUGXHFHCYCPGOIV2RZNAJSE4LP4NXQTIFKPV0QCSU2KCSXBL' \n",
    "VERSION = '20180605' \n"
   ],
   "metadata": {
    "collapsed": false,
    "pycharm": {
     "name": "#%%\n",
     "is_executing": false
    }
   }
  },
  {
   "cell_type": "code",
   "execution_count": 204,
   "outputs": [
    {
     "name": "stdout",
     "text": [
      "Latitude and longitude values of Parkwoods are 43.7532586, -79.3296565.\n"
     ],
     "output_type": "stream"
    }
   ],
   "source": [
    "\n",
    "# TO BE DELETED\n",
    "\n",
    "neighborhood_latitude = toronto_data.loc[0, 'Latitude'] # neighborhood latitude value\n",
    "neighborhood_longitude = toronto_data.loc[0, 'Longitude'] # neighborhood longitude value\n",
    "\n",
    "neighborhood_name = toronto_data.loc[0, 'Neighborhood'] # neighborhood name\n",
    "\n",
    "print('Latitude and longitude values of {} are {}, {}.'.format(neighborhood_name, \n",
    "                                                               neighborhood_latitude, \n",
    "                                                               neighborhood_longitude))\n"
   ],
   "metadata": {
    "collapsed": false,
    "pycharm": {
     "name": "#%%\n",
     "is_executing": false
    }
   }
  },
  {
   "cell_type": "code",
   "execution_count": 205,
   "outputs": [
    {
     "data": {
      "text/plain": "'https://api.foursquare.com/v2/venues/explore?&client_id=SSS2KPOGP3JYSRAXNVGMAOJQ0K4LZHN1EN2S3W2PMRSPSZ1X&client_secret=ZUGXHFHCYCPGOIV2RZNAJSE4LP4NXQTIFKPV0QCSU2KCSXBL&v=20180605&ll=43.7532586,-79.3296565&radius=500&limit=100'"
     },
     "metadata": {},
     "output_type": "execute_result",
     "execution_count": 205
    }
   ],
   "source": [
    "LIMIT = 100 # limit of number of venues returned by Foursquare API\n",
    "radius = 500 # define radius\n",
    "url = 'https://api.foursquare.com/v2/venues/explore?&client_id={}&client_secret={}&v={}&ll={},{}&radius={}&limit={}'.format(\n",
    "    CLIENT_ID, \n",
    "    CLIENT_SECRET, \n",
    "    VERSION, \n",
    "    neighborhood_latitude, \n",
    "    neighborhood_longitude, \n",
    "    radius, \n",
    "    LIMIT)\n",
    "url\n"
   ],
   "metadata": {
    "collapsed": false,
    "pycharm": {
     "name": "#%%\n",
     "is_executing": false
    }
   }
  },
  {
   "cell_type": "code",
   "execution_count": 206,
   "outputs": [
    {
     "data": {
      "text/plain": "{'meta': {'code': 200, 'requestId': '5e99722e78a484001b407cec'},\n 'response': {'warning': {'text': \"There aren't a lot of results near you. Try something more general, reset your filters, or expand the search area.\"},\n  'headerLocation': 'Parkwoods - Donalda',\n  'headerFullLocation': 'Parkwoods - Donalda, Toronto',\n  'headerLocationGranularity': 'neighborhood',\n  'totalResults': 3,\n  'suggestedBounds': {'ne': {'lat': 43.757758604500005,\n    'lng': -79.32343823984928},\n   'sw': {'lat': 43.7487585955, 'lng': -79.33587476015072}},\n  'groups': [{'type': 'Recommended Places',\n    'name': 'recommended',\n    'items': [{'reasons': {'count': 0,\n       'items': [{'summary': 'This spot is popular',\n         'type': 'general',\n         'reasonName': 'globalInteractionReason'}]},\n      'venue': {'id': '4e8d9dcdd5fbbbb6b3003c7b',\n       'name': 'Brookbanks Park',\n       'location': {'address': 'Toronto',\n        'lat': 43.751976046055574,\n        'lng': -79.33214044722958,\n        'labeledLatLngs': [{'label': 'display',\n          'lat': 43.751976046055574,\n          'lng': -79.33214044722958}],\n        'distance': 245,\n        'cc': 'CA',\n        'city': 'Toronto',\n        'state': 'ON',\n        'country': 'Canada',\n        'formattedAddress': ['Toronto', 'Toronto ON', 'Canada']},\n       'categories': [{'id': '4bf58dd8d48988d163941735',\n         'name': 'Park',\n         'pluralName': 'Parks',\n         'shortName': 'Park',\n         'icon': {'prefix': 'https://ss3.4sqi.net/img/categories_v2/parks_outdoors/park_',\n          'suffix': '.png'},\n         'primary': True}],\n       'photos': {'count': 0, 'groups': []}},\n      'referralId': 'e-0-4e8d9dcdd5fbbbb6b3003c7b-0'},\n     {'reasons': {'count': 0,\n       'items': [{'summary': 'This spot is popular',\n         'type': 'general',\n         'reasonName': 'globalInteractionReason'}]},\n      'venue': {'id': '53e72d92498e336f61db5bf5',\n       'name': 'GTA Restoration',\n       'location': {'address': '18 Valley Woods Road #414',\n        'lat': 43.753396155415686,\n        'lng': -79.33347702026367,\n        'labeledLatLngs': [{'label': 'display',\n          'lat': 43.753396155415686,\n          'lng': -79.33347702026367}],\n        'distance': 307,\n        'postalCode': 'M3A 0A1',\n        'cc': 'CA',\n        'city': 'Toronto',\n        'state': 'ON',\n        'country': 'Canada',\n        'formattedAddress': ['18 Valley Woods Road #414',\n         'Toronto ON M3A 0A1',\n         'Canada']},\n       'categories': [{'id': '52f2ab2ebcbc57f1066b8b3a',\n         'name': 'Fireworks Store',\n         'pluralName': 'Fireworks Stores',\n         'shortName': 'Fireworks Store',\n         'icon': {'prefix': 'https://ss3.4sqi.net/img/categories_v2/shops/default_',\n          'suffix': '.png'},\n         'primary': True}],\n       'photos': {'count': 0, 'groups': []}},\n      'referralId': 'e-0-53e72d92498e336f61db5bf5-1'},\n     {'reasons': {'count': 0,\n       'items': [{'summary': 'This spot is popular',\n         'type': 'general',\n         'reasonName': 'globalInteractionReason'}]},\n      'venue': {'id': '4cb11e2075ebb60cd1c4caad',\n       'name': 'Variety Store',\n       'location': {'address': '29 Valley Woods Road',\n        'lat': 43.75197441585782,\n        'lng': -79.33311418516017,\n        'labeledLatLngs': [{'label': 'display',\n          'lat': 43.75197441585782,\n          'lng': -79.33311418516017}],\n        'distance': 312,\n        'cc': 'CA',\n        'city': 'Toronto',\n        'state': 'ON',\n        'country': 'Canada',\n        'formattedAddress': ['29 Valley Woods Road', 'Toronto ON', 'Canada']},\n       'categories': [{'id': '4bf58dd8d48988d1f9941735',\n         'name': 'Food & Drink Shop',\n         'pluralName': 'Food & Drink Shops',\n         'shortName': 'Food & Drink',\n         'icon': {'prefix': 'https://ss3.4sqi.net/img/categories_v2/shops/foodanddrink_',\n          'suffix': '.png'},\n         'primary': True}],\n       'photos': {'count': 0, 'groups': []}},\n      'referralId': 'e-0-4cb11e2075ebb60cd1c4caad-2'}]}]}}"
     },
     "metadata": {},
     "output_type": "execute_result",
     "execution_count": 206
    }
   ],
   "source": [
    "results = requests.get(url).json()\n",
    "results"
   ],
   "metadata": {
    "collapsed": false,
    "pycharm": {
     "name": "#%%\n",
     "is_executing": false
    }
   }
  },
  {
   "cell_type": "code",
   "execution_count": 207,
   "outputs": [],
   "source": [
    "# function that extracts the category of the venue\n",
    "def get_category_type(row):\n",
    "    try:\n",
    "        categories_list = row['categories']\n",
    "    except:\n",
    "        categories_list = row['venue.categories']\n",
    "        \n",
    "    if len(categories_list) == 0:\n",
    "        return None\n",
    "    else:\n",
    "        return categories_list[0]['name']"
   ],
   "metadata": {
    "collapsed": false,
    "pycharm": {
     "name": "#%%\n",
     "is_executing": false
    }
   }
  },
  {
   "cell_type": "code",
   "execution_count": 208,
   "outputs": [
    {
     "name": "stderr",
     "text": [
      "/usr/local/lib/python3.7/site-packages/ipykernel_launcher.py:3: FutureWarning: pandas.io.json.json_normalize is deprecated, use pandas.json_normalize instead\n",
      "  This is separate from the ipykernel package so we can avoid doing imports until\n"
     ],
     "output_type": "stream"
    },
    {
     "data": {
      "text/plain": "              name         categories        lat        lng\n0  Brookbanks Park               Park  43.751976 -79.332140\n1  GTA Restoration    Fireworks Store  43.753396 -79.333477\n2    Variety Store  Food & Drink Shop  43.751974 -79.333114",
      "text/html": "<div>\n<style scoped>\n    .dataframe tbody tr th:only-of-type {\n        vertical-align: middle;\n    }\n\n    .dataframe tbody tr th {\n        vertical-align: top;\n    }\n\n    .dataframe thead th {\n        text-align: right;\n    }\n</style>\n<table border=\"1\" class=\"dataframe\">\n  <thead>\n    <tr style=\"text-align: right;\">\n      <th></th>\n      <th>name</th>\n      <th>categories</th>\n      <th>lat</th>\n      <th>lng</th>\n    </tr>\n  </thead>\n  <tbody>\n    <tr>\n      <th>0</th>\n      <td>Brookbanks Park</td>\n      <td>Park</td>\n      <td>43.751976</td>\n      <td>-79.332140</td>\n    </tr>\n    <tr>\n      <th>1</th>\n      <td>GTA Restoration</td>\n      <td>Fireworks Store</td>\n      <td>43.753396</td>\n      <td>-79.333477</td>\n    </tr>\n    <tr>\n      <th>2</th>\n      <td>Variety Store</td>\n      <td>Food &amp; Drink Shop</td>\n      <td>43.751974</td>\n      <td>-79.333114</td>\n    </tr>\n  </tbody>\n</table>\n</div>"
     },
     "metadata": {},
     "output_type": "execute_result",
     "execution_count": 208
    }
   ],
   "source": [
    "venues = results['response']['groups'][0]['items']\n",
    "    \n",
    "nearby_venues = json_normalize(venues) # flatten JSON\n",
    "\n",
    "# filter columns\n",
    "filtered_columns = ['venue.name', 'venue.categories', 'venue.location.lat', 'venue.location.lng']\n",
    "nearby_venues =nearby_venues.loc[:, filtered_columns]\n",
    "\n",
    "# filter the category for each row\n",
    "nearby_venues['venue.categories'] = nearby_venues.apply(get_category_type, axis=1)\n",
    "\n",
    "# clean columns\n",
    "nearby_venues.columns = [col.split(\".\")[-1] for col in nearby_venues.columns]\n",
    "\n",
    "nearby_venues.head()"
   ],
   "metadata": {
    "collapsed": false,
    "pycharm": {
     "name": "#%%\n",
     "is_executing": false
    }
   }
  },
  {
   "cell_type": "code",
   "execution_count": 209,
   "outputs": [
    {
     "name": "stdout",
     "text": [
      "3 venues were returned by Foursquare.\n"
     ],
     "output_type": "stream"
    }
   ],
   "source": [
    "print('{} venues were returned by Foursquare.'.format(nearby_venues.shape[0]))"
   ],
   "metadata": {
    "collapsed": false,
    "pycharm": {
     "name": "#%%\n",
     "is_executing": false
    }
   }
  },
  {
   "cell_type": "markdown",
   "source": [
    "#### explore neighborhoods in Toronto"
   ],
   "metadata": {
    "collapsed": false,
    "pycharm": {
     "name": "#%% md\n"
    }
   }
  },
  {
   "cell_type": "code",
   "execution_count": 210,
   "outputs": [],
   "source": [
    "def getNearbyVenues(names, latitudes, longitudes, radius=500):\n",
    "    \n",
    "    venues_list=[]\n",
    "    for name, lat, lng in zip(names, latitudes, longitudes):\n",
    "        print(name)\n",
    "            \n",
    "        # create the API request URL\n",
    "        url = 'https://api.foursquare.com/v2/venues/explore?&client_id={}&client_secret={}&v={}&ll={},{}&radius={}&limit={}'.format(\n",
    "            CLIENT_ID, \n",
    "            CLIENT_SECRET, \n",
    "            VERSION, \n",
    "            lat, \n",
    "            lng, \n",
    "            radius, \n",
    "            LIMIT)\n",
    "            \n",
    "        # make the GET request\n",
    "        results = requests.get(url).json()[\"response\"]['groups'][0]['items']\n",
    "        \n",
    "        # return only relevant information for each nearby venue\n",
    "        venues_list.append([(\n",
    "            name, \n",
    "            lat, \n",
    "            lng, \n",
    "            v['venue']['name'], \n",
    "            v['venue']['location']['lat'], \n",
    "            v['venue']['location']['lng'],  \n",
    "            v['venue']['categories'][0]['name']) for v in results])\n",
    "\n",
    "    nearby_venues = pd.DataFrame([item for venue_list in venues_list for item in venue_list])\n",
    "    nearby_venues.columns = ['Neighborhood', \n",
    "                  'Neighborhood Latitude', \n",
    "                  'Neighborhood Longitude', \n",
    "                  'Venue', \n",
    "                  'Venue Latitude', \n",
    "                  'Venue Longitude', \n",
    "                  'Venue Category']\n",
    "    \n",
    "    return(nearby_venues)"
   ],
   "metadata": {
    "collapsed": false,
    "pycharm": {
     "name": "#%%\n",
     "is_executing": false
    }
   }
  },
  {
   "cell_type": "code",
   "execution_count": 211,
   "outputs": [
    {
     "name": "stdout",
     "text": [
      "Parkwoods\n",
      "Victoria Village\n",
      "Regent Park, Harbourfront\n",
      "Lawrence Manor, Lawrence Heights\n",
      "Queen's Park, Ontario Provincial Government\n",
      "Islington Avenue\n",
      "Malvern, Rouge\n",
      "Don Mills\n",
      "Parkview Hill, Woodbine Gardens\n",
      "Garden District, Ryerson\n",
      "Glencairn\n",
      "West Deane Park, Princess Gardens, Martin Grove, Islington, Cloverdale\n",
      "Rouge Hill, Port Union, Highland Creek\n",
      "Don Mills\n",
      "Woodbine Heights\n",
      "St. James Town\n",
      "Humewood-Cedarvale\n",
      "Eringate, Bloordale Gardens, Old Burnhamthorpe, Markland Wood\n",
      "Guildwood, Morningside, West Hill\n",
      "The Beaches\n",
      "Berczy Park\n",
      "Caledonia-Fairbanks\n",
      "Woburn\n",
      "Leaside\n",
      "Central Bay Street\n",
      "Christie\n",
      "Cedarbrae\n",
      "Hillcrest Village\n",
      "Bathurst Manor, Wilson Heights, Downsview North\n",
      "Thorncliffe Park\n",
      "Richmond, Adelaide, King\n",
      "Dufferin, Dovercourt Village\n",
      "Scarborough Village\n",
      "Fairview, Henry Farm, Oriole\n",
      "Northwood Park, York University\n",
      "East Toronto\n",
      "Harbourfront East, Union Station, Toronto Islands\n",
      "Little Portugal, Trinity\n",
      "Kennedy Park, Ionview, East Birchmount Park\n",
      "Bayview Village\n",
      "Downsview\n",
      "The Danforth West, Riverdale\n",
      "Toronto Dominion Centre, Design Exchange\n",
      "Brockton, Parkdale Village, Exhibition Place\n",
      "Golden Mile, Clairlea, Oakridge\n",
      "York Mills, Silver Hills\n",
      "Downsview\n",
      "India Bazaar, The Beaches West\n",
      "Commerce Court, Victoria Hotel\n",
      "North Park, Maple Leaf Park, Upwood Park\n",
      "Humber Summit\n",
      "Cliffside, Cliffcrest, Scarborough Village West\n",
      "Willowdale, Newtonbrook\n",
      "Downsview\n",
      "Studio District\n",
      "Bedford Park, Lawrence Manor East\n",
      "Del Ray, Mount Dennis, Keelsdale and Silverthorn\n",
      "Humberlea, Emery\n",
      "Birch Cliff, Cliffside West\n",
      "Willowdale\n",
      "Downsview\n",
      "Lawrence Park\n",
      "Roselawn\n",
      "Runnymede, The Junction North\n",
      "Weston\n",
      "Dorset Park, Wexford Heights, Scarborough Town Centre\n",
      "York Mills West\n",
      "Davisville North\n",
      "Forest Hill North & West\n",
      "High Park, The Junction South\n",
      "Westmount\n",
      "Wexford, Maryvale\n",
      "Willowdale\n",
      "North Toronto West\n",
      "The Annex, North Midtown, Yorkville\n",
      "Parkdale, Roncesvalles\n",
      "Canada Post Gateway Processing Centre\n",
      "Kingsview Village, St. Phillips, Martin Grove Gardens, Richview Gardens\n",
      "Agincourt\n",
      "Davisville\n",
      "University of Toronto, Harbord\n",
      "Runnymede, Swansea\n",
      "Clarks Corners, Tam O'Shanter, Sullivan\n",
      "Moore Park, Summerhill East\n",
      "Kensington Market, Chinatown, Grange Park\n",
      "Milliken, Agincourt North, Steeles East, L'Amoreaux East\n",
      "Summerhill West, Rathnelly, South Hill, Forest Hill SE, Deer Park\n",
      "CN Tower, King and Spadina, Railway Lands, Harbourfront West, Bathurst Quay, South Niagara, Island airport\n",
      "New Toronto, Mimico South, Humber Bay Shores\n",
      "South Steeles, Silverstone, Humbergate, Jamestown, Mount Olive, Beaumond Heights, Thistletown, Albion Gardens\n",
      "Steeles West, L'Amoreaux West\n",
      "Rosedale\n",
      "Stn A PO Boxes\n",
      "Alderwood, Long Branch\n",
      "Northwest\n",
      "Upper Rouge\n",
      "St. James Town, Cabbagetown\n",
      "First Canadian Place, Underground city\n",
      "The Kingsway, Montgomery Road , Old Mill North\n",
      "Church and Wellesley\n",
      "Business reply mail Processing CentrE\n",
      "Old Mill South, King's Mill Park, Sunnylea, Humber Bay, Mimico NE, The Queensway East, Royal York South East, Kingsway Park South East\n",
      "Mimico NW, The Queensway West, South of Bloor, Kingsway Park South West, Royal York South West\n"
     ],
     "output_type": "stream"
    }
   ],
   "source": [
    "toronto_venues = getNearbyVenues(names=toronto_data['Neighborhood'],\n",
    "                                   latitudes=toronto_data['Latitude'],\n",
    "                                   longitudes=toronto_data['Longitude']\n",
    "                                  )"
   ],
   "metadata": {
    "collapsed": false,
    "pycharm": {
     "name": "#%%\n",
     "is_executing": false
    }
   }
  },
  {
   "cell_type": "code",
   "execution_count": 212,
   "outputs": [
    {
     "name": "stdout",
     "text": [
      "(2125, 7)\n"
     ],
     "output_type": "stream"
    },
    {
     "data": {
      "text/plain": "       Neighborhood  Neighborhood Latitude  Neighborhood Longitude  \\\n0         Parkwoods              43.753259              -79.329656   \n1         Parkwoods              43.753259              -79.329656   \n2         Parkwoods              43.753259              -79.329656   \n3  Victoria Village              43.725882              -79.315572   \n4  Victoria Village              43.725882              -79.315572   \n\n                    Venue  Venue Latitude  Venue Longitude     Venue Category  \n0         Brookbanks Park       43.751976       -79.332140               Park  \n1         GTA Restoration       43.753396       -79.333477    Fireworks Store  \n2           Variety Store       43.751974       -79.333114  Food & Drink Shop  \n3  Victoria Village Arena       43.723481       -79.315635       Hockey Arena  \n4             Tim Hortons       43.725517       -79.313103        Coffee Shop  ",
      "text/html": "<div>\n<style scoped>\n    .dataframe tbody tr th:only-of-type {\n        vertical-align: middle;\n    }\n\n    .dataframe tbody tr th {\n        vertical-align: top;\n    }\n\n    .dataframe thead th {\n        text-align: right;\n    }\n</style>\n<table border=\"1\" class=\"dataframe\">\n  <thead>\n    <tr style=\"text-align: right;\">\n      <th></th>\n      <th>Neighborhood</th>\n      <th>Neighborhood Latitude</th>\n      <th>Neighborhood Longitude</th>\n      <th>Venue</th>\n      <th>Venue Latitude</th>\n      <th>Venue Longitude</th>\n      <th>Venue Category</th>\n    </tr>\n  </thead>\n  <tbody>\n    <tr>\n      <th>0</th>\n      <td>Parkwoods</td>\n      <td>43.753259</td>\n      <td>-79.329656</td>\n      <td>Brookbanks Park</td>\n      <td>43.751976</td>\n      <td>-79.332140</td>\n      <td>Park</td>\n    </tr>\n    <tr>\n      <th>1</th>\n      <td>Parkwoods</td>\n      <td>43.753259</td>\n      <td>-79.329656</td>\n      <td>GTA Restoration</td>\n      <td>43.753396</td>\n      <td>-79.333477</td>\n      <td>Fireworks Store</td>\n    </tr>\n    <tr>\n      <th>2</th>\n      <td>Parkwoods</td>\n      <td>43.753259</td>\n      <td>-79.329656</td>\n      <td>Variety Store</td>\n      <td>43.751974</td>\n      <td>-79.333114</td>\n      <td>Food &amp; Drink Shop</td>\n    </tr>\n    <tr>\n      <th>3</th>\n      <td>Victoria Village</td>\n      <td>43.725882</td>\n      <td>-79.315572</td>\n      <td>Victoria Village Arena</td>\n      <td>43.723481</td>\n      <td>-79.315635</td>\n      <td>Hockey Arena</td>\n    </tr>\n    <tr>\n      <th>4</th>\n      <td>Victoria Village</td>\n      <td>43.725882</td>\n      <td>-79.315572</td>\n      <td>Tim Hortons</td>\n      <td>43.725517</td>\n      <td>-79.313103</td>\n      <td>Coffee Shop</td>\n    </tr>\n  </tbody>\n</table>\n</div>"
     },
     "metadata": {},
     "output_type": "execute_result",
     "execution_count": 212
    }
   ],
   "source": [
    "print(toronto_venues.shape)\n",
    "toronto_venues.head()"
   ],
   "metadata": {
    "collapsed": false,
    "pycharm": {
     "name": "#%%\n",
     "is_executing": false
    }
   }
  },
  {
   "cell_type": "markdown",
   "source": [
    "#### analyze each neighbourhood"
   ],
   "metadata": {
    "collapsed": false,
    "pycharm": {
     "name": "#%% md\n"
    }
   }
  },
  {
   "cell_type": "code",
   "execution_count": 213,
   "outputs": [],
   "source": [
    "# one hot encoding\n",
    "toronto_onehot = pd.get_dummies(toronto_venues[['Venue Category']], prefix=\"\", prefix_sep=\"\")\n",
    "\n",
    "# add neighborhood column back to dataframe\n",
    "toronto_onehot['Neighborhood'] = toronto_venues['Neighborhood'] \n",
    "\n",
    "# move neighborhood column to the first column\n",
    "fixed_columns = [toronto_onehot.columns[-1]] + list(toronto_onehot.columns[:-1])\n",
    "toronto_onehot = toronto_onehot[fixed_columns]\n"
   ],
   "metadata": {
    "collapsed": false,
    "pycharm": {
     "name": "#%%\n",
     "is_executing": false
    }
   }
  },
  {
   "cell_type": "code",
   "execution_count": 214,
   "outputs": [
    {
     "name": "stdout",
     "text": [
      "----Agincourt----\n",
      "                       venue  freq\n",
      "0             Breakfast Spot  0.25\n",
      "1  Latin American Restaurant  0.25\n",
      "2               Skating Rink  0.25\n",
      "3                     Lounge  0.25\n",
      "4                Yoga Studio  0.00\n",
      "\n",
      "\n",
      "----Alderwood, Long Branch----\n",
      "            venue  freq\n",
      "0     Pizza Place   0.2\n",
      "1        Pharmacy   0.1\n",
      "2            Pool   0.1\n",
      "3  Sandwich Place   0.1\n",
      "4             Pub   0.1\n",
      "\n",
      "\n",
      "----Bathurst Manor, Wilson Heights, Downsview North----\n",
      "            venue  freq\n",
      "0            Bank  0.11\n",
      "1     Coffee Shop  0.11\n",
      "2        Pharmacy  0.05\n",
      "3  Ice Cream Shop  0.05\n",
      "4   Shopping Mall  0.05\n",
      "\n",
      "\n",
      "----Bayview Village----\n",
      "                 venue  freq\n",
      "0                 Café  0.25\n",
      "1                 Bank  0.25\n",
      "2  Japanese Restaurant  0.25\n",
      "3   Chinese Restaurant  0.25\n",
      "4          Yoga Studio  0.00\n",
      "\n",
      "\n",
      "----Bedford Park, Lawrence Manor East----\n",
      "                venue  freq\n",
      "0      Sandwich Place  0.08\n",
      "1         Pizza Place  0.08\n",
      "2          Restaurant  0.08\n",
      "3    Sushi Restaurant  0.08\n",
      "4  Italian Restaurant  0.08\n",
      "\n",
      "\n",
      "----Berczy Park----\n",
      "                venue  freq\n",
      "0        Cocktail Bar  0.05\n",
      "1         Coffee Shop  0.05\n",
      "2  Italian Restaurant  0.04\n",
      "3  Seafood Restaurant  0.04\n",
      "4                Café  0.04\n",
      "\n",
      "\n",
      "----Birch Cliff, Cliffside West----\n",
      "                   venue  freq\n",
      "0                   Café  0.25\n",
      "1        College Stadium  0.25\n",
      "2           Skating Rink  0.25\n",
      "3  General Entertainment  0.25\n",
      "4     Mexican Restaurant  0.00\n",
      "\n",
      "\n",
      "----Brockton, Parkdale Village, Exhibition Place----\n",
      "               venue  freq\n",
      "0               Café  0.13\n",
      "1     Breakfast Spot  0.09\n",
      "2        Coffee Shop  0.09\n",
      "3       Intersection  0.04\n",
      "4  Convenience Store  0.04\n",
      "\n",
      "\n",
      "----Business reply mail Processing CentrE----\n",
      "                  venue  freq\n",
      "0  Gym / Fitness Center  0.07\n",
      "1         Auto Workshop  0.07\n",
      "2            Skate Park  0.07\n",
      "3  Fast Food Restaurant  0.07\n",
      "4         Burrito Place  0.07\n",
      "\n",
      "\n",
      "----CN Tower, King and Spadina, Railway Lands, Harbourfront West, Bathurst Quay, South Niagara, Island airport----\n",
      "              venue  freq\n",
      "0   Airport Service  0.17\n",
      "1    Airport Lounge  0.11\n",
      "2  Airport Terminal  0.11\n",
      "3       Coffee Shop  0.06\n",
      "4               Bar  0.06\n",
      "\n",
      "\n",
      "----Caledonia-Fairbanks----\n",
      "                     venue  freq\n",
      "0                     Park  0.50\n",
      "1                     Pool  0.25\n",
      "2            Women's Store  0.25\n",
      "3           Hardware Store  0.00\n",
      "4  Health & Beauty Service  0.00\n",
      "\n",
      "\n",
      "----Canada Post Gateway Processing Centre----\n",
      "                       venue  freq\n",
      "0                Coffee Shop  0.15\n",
      "1               Intersection  0.15\n",
      "2                      Hotel  0.15\n",
      "3  Middle Eastern Restaurant  0.08\n",
      "4                        Gym  0.08\n",
      "\n",
      "\n",
      "----Cedarbrae----\n",
      "                  venue  freq\n",
      "0                  Bank  0.12\n",
      "1   Fried Chicken Joint  0.12\n",
      "2      Hakka Restaurant  0.12\n",
      "3                Bakery  0.12\n",
      "4  Caribbean Restaurant  0.12\n",
      "\n",
      "\n",
      "----Central Bay Street----\n",
      "                 venue  freq\n",
      "0          Coffee Shop  0.22\n",
      "1   Italian Restaurant  0.07\n",
      "2       Sandwich Place  0.05\n",
      "3                 Café  0.05\n",
      "4  Japanese Restaurant  0.03\n",
      "\n",
      "\n",
      "----Christie----\n",
      "           venue  freq\n",
      "0  Grocery Store  0.22\n",
      "1           Café  0.17\n",
      "2           Park  0.11\n",
      "3    Coffee Shop  0.06\n",
      "4    Candy Store  0.06\n",
      "\n",
      "\n",
      "----Church and Wellesley----\n",
      "                 venue  freq\n",
      "0          Coffee Shop  0.08\n",
      "1     Sushi Restaurant  0.07\n",
      "2  Japanese Restaurant  0.05\n",
      "3           Restaurant  0.04\n",
      "4          Yoga Studio  0.03\n",
      "\n",
      "\n",
      "----Clarks Corners, Tam O'Shanter, Sullivan----\n",
      "                 venue  freq\n",
      "0             Pharmacy  0.13\n",
      "1          Pizza Place  0.13\n",
      "2    Convenience Store  0.07\n",
      "3      Thai Restaurant  0.07\n",
      "4  Fried Chicken Joint  0.07\n",
      "\n",
      "\n",
      "----Cliffside, Cliffcrest, Scarborough Village West----\n",
      "                        venue  freq\n",
      "0                       Motel   0.5\n",
      "1         American Restaurant   0.5\n",
      "2                 Yoga Studio   0.0\n",
      "3               Metro Station   0.0\n",
      "4  Modern European Restaurant   0.0\n",
      "\n",
      "\n",
      "----Commerce Court, Victoria Hotel----\n",
      "         venue  freq\n",
      "0  Coffee Shop  0.10\n",
      "1         Café  0.07\n",
      "2   Restaurant  0.07\n",
      "3        Hotel  0.06\n",
      "4          Gym  0.04\n",
      "\n",
      "\n",
      "----Davisville----\n",
      "              venue  freq\n",
      "0      Dessert Shop  0.09\n",
      "1    Sandwich Place  0.09\n",
      "2       Pizza Place  0.06\n",
      "3              Café  0.06\n",
      "4  Sushi Restaurant  0.06\n",
      "\n",
      "\n",
      "----Davisville North----\n",
      "               venue  freq\n",
      "0     Breakfast Spot  0.14\n",
      "1              Hotel  0.14\n",
      "2     Sandwich Place  0.14\n",
      "3   Department Store  0.14\n",
      "4  Food & Drink Shop  0.14\n",
      "\n",
      "\n",
      "----Del Ray, Mount Dennis, Keelsdale and Silverthorn----\n",
      "                  venue  freq\n",
      "0  Fast Food Restaurant  0.50\n",
      "1        Discount Store  0.25\n",
      "2        Sandwich Place  0.25\n",
      "3         Luggage Store  0.00\n",
      "4                Market  0.00\n",
      "\n",
      "\n",
      "----Don Mills----\n",
      "                 venue  freq\n",
      "0                  Gym  0.07\n",
      "1           Beer Store  0.07\n",
      "2  Japanese Restaurant  0.07\n",
      "3           Restaurant  0.07\n",
      "4          Coffee Shop  0.07\n",
      "\n",
      "\n",
      "----Dorset Park, Wexford Heights, Scarborough Town Centre----\n",
      "                   venue  freq\n",
      "0      Indian Restaurant   0.4\n",
      "1  Vietnamese Restaurant   0.2\n",
      "2     Chinese Restaurant   0.2\n",
      "3              Pet Store   0.2\n",
      "4        Organic Grocery   0.0\n",
      "\n",
      "\n",
      "----Downsview----\n",
      "                  venue  freq\n",
      "0         Grocery Store  0.23\n",
      "1                  Park  0.15\n",
      "2  Gym / Fitness Center  0.08\n",
      "3    Athletics & Sports  0.08\n",
      "4            Food Truck  0.08\n",
      "\n",
      "\n",
      "----Dufferin, Dovercourt Village----\n",
      "                  venue  freq\n",
      "0              Pharmacy  0.11\n",
      "1           Pizza Place  0.11\n",
      "2                Bakery  0.11\n",
      "3  Gym / Fitness Center  0.06\n",
      "4    Athletics & Sports  0.06\n",
      "\n",
      "\n",
      "----East Toronto----\n",
      "                        venue  freq\n",
      "0                        Park  0.33\n",
      "1           Convenience Store  0.33\n",
      "2               Metro Station  0.33\n",
      "3                 Men's Store  0.00\n",
      "4  Modern European Restaurant  0.00\n",
      "\n",
      "\n",
      "----Eringate, Bloordale Gardens, Old Burnhamthorpe, Markland Wood----\n",
      "            venue  freq\n",
      "0     Pizza Place  0.12\n",
      "1  Cosmetics Shop  0.12\n",
      "2     Coffee Shop  0.12\n",
      "3    Liquor Store  0.12\n",
      "4      Beer Store  0.12\n",
      "\n",
      "\n",
      "----Fairview, Henry Farm, Oriole----\n",
      "                  venue  freq\n",
      "0        Clothing Store  0.15\n",
      "1           Coffee Shop  0.07\n",
      "2  Fast Food Restaurant  0.06\n",
      "3   Japanese Restaurant  0.04\n",
      "4         Women's Store  0.03\n",
      "\n",
      "\n",
      "----First Canadian Place, Underground city----\n",
      "         venue  freq\n",
      "0  Coffee Shop  0.10\n",
      "1         Café  0.07\n",
      "2   Restaurant  0.06\n",
      "3        Hotel  0.04\n",
      "4    Gastropub  0.03\n",
      "\n",
      "\n",
      "----Forest Hill North & West----\n",
      "                venue  freq\n",
      "0               Trail  0.25\n",
      "1    Sushi Restaurant  0.25\n",
      "2  Mexican Restaurant  0.25\n",
      "3       Jewelry Store  0.25\n",
      "4         Yoga Studio  0.00\n",
      "\n",
      "\n",
      "----Garden District, Ryerson----\n",
      "                       venue  freq\n",
      "0             Clothing Store  0.09\n",
      "1                Coffee Shop  0.09\n",
      "2                       Café  0.04\n",
      "3  Middle Eastern Restaurant  0.03\n",
      "4            Bubble Tea Shop  0.03\n",
      "\n",
      "\n",
      "----Glencairn----\n",
      "                 venue  freq\n",
      "0               Bakery  0.25\n",
      "1  Japanese Restaurant  0.25\n",
      "2           Playground  0.25\n",
      "3                  Pub  0.25\n",
      "4   Mexican Restaurant  0.00\n",
      "\n",
      "\n",
      "----Golden Mile, Clairlea, Oakridge----\n",
      "            venue  freq\n",
      "0          Bakery  0.22\n",
      "1    Intersection  0.11\n",
      "2   Metro Station  0.11\n",
      "3  Ice Cream Shop  0.11\n",
      "4     Bus Station  0.11\n",
      "\n",
      "\n",
      "----Guildwood, Morningside, West Hill----\n",
      "                 venue  freq\n",
      "0       Breakfast Spot  0.14\n",
      "1                 Bank  0.14\n",
      "2       Medical Center  0.14\n",
      "3  Rental Car Location  0.14\n",
      "4    Electronics Store  0.14\n",
      "\n",
      "\n",
      "----Harbourfront East, Union Station, Toronto Islands----\n",
      "                venue  freq\n",
      "0         Coffee Shop  0.12\n",
      "1            Aquarium  0.05\n",
      "2               Hotel  0.04\n",
      "3          Restaurant  0.04\n",
      "4  Italian Restaurant  0.04\n",
      "\n",
      "\n",
      "----High Park, The Junction South----\n",
      "                 venue  freq\n",
      "0                 Café  0.09\n",
      "1   Mexican Restaurant  0.09\n",
      "2      Thai Restaurant  0.09\n",
      "3  Arts & Crafts Store  0.04\n",
      "4            Gastropub  0.04\n",
      "\n",
      "\n",
      "----Hillcrest Village----\n",
      "                      venue  freq\n",
      "0                      Pool  0.25\n",
      "1                   Dog Run  0.25\n",
      "2               Golf Course  0.25\n",
      "3  Mediterranean Restaurant  0.25\n",
      "4               Men's Store  0.00\n",
      "\n",
      "\n",
      "----Humber Summit----\n",
      "                        venue  freq\n",
      "0                 Pizza Place   0.5\n",
      "1         Empanada Restaurant   0.5\n",
      "2                 Yoga Studio   0.0\n",
      "3               Metro Station   0.0\n",
      "4  Modern European Restaurant   0.0\n",
      "\n",
      "\n",
      "----Humberlea, Emery----\n",
      "                venue  freq\n",
      "0        Food Service   0.5\n",
      "1      Baseball Field   0.5\n",
      "2         Men's Store   0.0\n",
      "3   Mobile Phone Shop   0.0\n",
      "4  Miscellaneous Shop   0.0\n",
      "\n",
      "\n",
      "----Humewood-Cedarvale----\n",
      "                venue  freq\n",
      "0               Field  0.33\n",
      "1               Trail  0.33\n",
      "2        Hockey Arena  0.33\n",
      "3   Mobile Phone Shop  0.00\n",
      "4  Miscellaneous Shop  0.00\n",
      "\n",
      "\n",
      "----India Bazaar, The Beaches West----\n",
      "                  venue  freq\n",
      "0  Fast Food Restaurant  0.10\n",
      "1        Ice Cream Shop  0.05\n",
      "2         Burrito Place  0.05\n",
      "3               Brewery  0.05\n",
      "4     Fish & Chips Shop  0.05\n",
      "\n",
      "\n",
      "----Kennedy Park, Ionview, East Birchmount Park----\n",
      "              venue  freq\n",
      "0    Discount Store  0.33\n",
      "1     Train Station  0.17\n",
      "2  Department Store  0.17\n",
      "3        Hobby Shop  0.17\n",
      "4       Coffee Shop  0.17\n",
      "\n",
      "\n",
      "----Kensington Market, Chinatown, Grange Park----\n",
      "                   venue  freq\n",
      "0                   Café  0.09\n",
      "1            Coffee Shop  0.07\n",
      "2           Dessert Shop  0.05\n",
      "3  Vietnamese Restaurant  0.05\n",
      "4     Mexican Restaurant  0.05\n",
      "\n",
      "\n",
      "----Kingsview Village, St. Phillips, Martin Grove Gardens, Richview Gardens----\n",
      "               venue  freq\n",
      "0               Park  0.25\n",
      "1        Pizza Place  0.25\n",
      "2     Sandwich Place  0.25\n",
      "3  Mobile Phone Shop  0.25\n",
      "4      Luggage Store  0.00\n",
      "\n",
      "\n",
      "----Lawrence Manor, Lawrence Heights----\n",
      "                    venue  freq\n",
      "0          Clothing Store  0.33\n",
      "1           Women's Store  0.13\n",
      "2  Furniture / Home Store  0.07\n",
      "3             Coffee Shop  0.07\n",
      "4      Miscellaneous Shop  0.07\n",
      "\n",
      "\n",
      "----Lawrence Park----\n",
      "               venue  freq\n",
      "0               Park  0.33\n",
      "1        Swim School  0.33\n",
      "2           Bus Line  0.33\n",
      "3      Metro Station  0.00\n",
      "4  Mobile Phone Shop  0.00\n",
      "\n",
      "\n",
      "----Leaside----\n",
      "                    venue  freq\n",
      "0     Sporting Goods Shop  0.09\n",
      "1             Coffee Shop  0.09\n",
      "2  Furniture / Home Store  0.06\n",
      "3            Burger Joint  0.06\n",
      "4                    Bank  0.06\n",
      "\n",
      "\n",
      "----Little Portugal, Trinity----\n",
      "                           venue  freq\n",
      "0                            Bar  0.10\n",
      "1                     Restaurant  0.07\n",
      "2                           Café  0.05\n",
      "3          Vietnamese Restaurant  0.05\n",
      "4  Vegetarian / Vegan Restaurant  0.05\n",
      "\n",
      "\n",
      "----Malvern, Rouge----\n",
      "                             venue  freq\n",
      "0             Fast Food Restaurant   1.0\n",
      "1  Molecular Gastronomy Restaurant   0.0\n",
      "2                           Lounge   0.0\n",
      "3                    Luggage Store   0.0\n",
      "4                           Market   0.0\n",
      "\n",
      "\n",
      "----Milliken, Agincourt North, Steeles East, L'Amoreaux East----\n",
      "                        venue  freq\n",
      "0                        Park  0.67\n",
      "1                  Playground  0.33\n",
      "2                 Men's Store  0.00\n",
      "3  Modern European Restaurant  0.00\n",
      "4           Mobile Phone Shop  0.00\n",
      "\n",
      "\n",
      "----Mimico NW, The Queensway West, South of Bloor, Kingsway Park South West, Royal York South West----\n",
      "                    venue  freq\n",
      "0          Hardware Store  0.07\n",
      "1  Thrift / Vintage Store  0.07\n",
      "2            Burger Joint  0.07\n",
      "3           Burrito Place  0.07\n",
      "4       Convenience Store  0.07\n",
      "\n",
      "\n",
      "----Moore Park, Summerhill East----\n",
      "               venue  freq\n",
      "0         Restaurant   0.5\n",
      "1         Playground   0.5\n",
      "2        Yoga Studio   0.0\n",
      "3        Men's Store   0.0\n",
      "4  Mobile Phone Shop   0.0\n",
      "\n",
      "\n",
      "----New Toronto, Mimico South, Humber Bay Shores----\n",
      "                venue  freq\n",
      "0                Café  0.14\n",
      "1          Restaurant  0.07\n",
      "2         Coffee Shop  0.07\n",
      "3        Liquor Store  0.07\n",
      "4  Seafood Restaurant  0.07\n",
      "\n",
      "\n",
      "----North Park, Maple Leaf Park, Upwood Park----\n",
      "                        venue  freq\n",
      "0                        Park  0.33\n",
      "1                      Bakery  0.33\n",
      "2  Construction & Landscaping  0.33\n",
      "3                 Men's Store  0.00\n",
      "4           Mobile Phone Shop  0.00\n",
      "\n",
      "\n",
      "----North Toronto West----\n",
      "                 venue  freq\n",
      "0       Clothing Store  0.17\n",
      "1          Coffee Shop  0.11\n",
      "2          Yoga Studio  0.06\n",
      "3  Sporting Goods Shop  0.06\n",
      "4         Dessert Shop  0.06\n",
      "\n",
      "\n",
      "----Northwest----\n",
      "                        venue  freq\n",
      "0                   Drugstore   0.5\n",
      "1         Rental Car Location   0.5\n",
      "2                 Yoga Studio   0.0\n",
      "3  Modern European Restaurant   0.0\n",
      "4           Mobile Phone Shop   0.0\n",
      "\n",
      "\n",
      "----Northwood Park, York University----\n",
      "                  venue  freq\n",
      "0        Massage Studio   0.2\n",
      "1  Caribbean Restaurant   0.2\n",
      "2                   Bar   0.2\n",
      "3           Coffee Shop   0.2\n",
      "4         Metro Station   0.2\n",
      "\n",
      "\n",
      "----Old Mill South, King's Mill Park, Sunnylea, Humber Bay, Mimico NE, The Queensway East, Royal York South East, Kingsway Park South East----\n",
      "                        venue  freq\n",
      "0                   Locksmith  0.25\n",
      "1  Construction & Landscaping  0.25\n",
      "2              Breakfast Spot  0.25\n",
      "3              Baseball Field  0.25\n",
      "4                 Yoga Studio  0.00\n",
      "\n",
      "\n",
      "----Parkdale, Roncesvalles----\n",
      "                         venue  freq\n",
      "0                    Gift Shop  0.15\n",
      "1                Movie Theater  0.08\n",
      "2                  Coffee Shop  0.08\n",
      "3                    Bookstore  0.08\n",
      "4  Eastern European Restaurant  0.08\n",
      "\n",
      "\n",
      "----Parkview Hill, Woodbine Gardens----\n",
      "                  venue  freq\n",
      "0           Pizza Place  0.17\n",
      "1  Gym / Fitness Center  0.08\n",
      "2    Athletics & Sports  0.08\n",
      "3                  Café  0.08\n",
      "4              Bus Line  0.08\n",
      "\n",
      "\n",
      "----Parkwoods----\n",
      "               venue  freq\n",
      "0               Park  0.33\n",
      "1    Fireworks Store  0.33\n",
      "2  Food & Drink Shop  0.33\n",
      "3        Men's Store  0.00\n",
      "4  Mobile Phone Shop  0.00\n",
      "\n",
      "\n",
      "----Queen's Park, Ontario Provincial Government----\n",
      "                venue  freq\n",
      "0         Coffee Shop  0.26\n",
      "1               Diner  0.06\n",
      "2    Sushi Restaurant  0.06\n",
      "3         Yoga Studio  0.03\n",
      "4  Italian Restaurant  0.03\n",
      "\n",
      "\n",
      "----Regent Park, Harbourfront----\n",
      "            venue  freq\n",
      "0     Coffee Shop  0.17\n",
      "1             Pub  0.06\n",
      "2            Park  0.06\n",
      "3          Bakery  0.06\n",
      "4  Breakfast Spot  0.04\n",
      "\n",
      "\n",
      "----Richmond, Adelaide, King----\n",
      "         venue  freq\n",
      "0  Coffee Shop  0.10\n",
      "1         Café  0.05\n",
      "2   Restaurant  0.04\n",
      "3        Hotel  0.03\n",
      "4          Gym  0.03\n",
      "\n",
      "\n",
      "----Rosedale----\n",
      "                venue  freq\n",
      "0                Park  0.50\n",
      "1               Trail  0.25\n",
      "2          Playground  0.25\n",
      "3   Mobile Phone Shop  0.00\n",
      "4  Miscellaneous Shop  0.00\n",
      "\n",
      "\n",
      "----Roselawn----\n",
      "                        venue  freq\n",
      "0                Home Service   0.5\n",
      "1                      Garden   0.5\n",
      "2         Monument / Landmark   0.0\n",
      "3  Modern European Restaurant   0.0\n",
      "4           Mobile Phone Shop   0.0\n",
      "\n",
      "\n",
      "----Rouge Hill, Port Union, Highland Creek----\n",
      "               venue  freq\n",
      "0                Bar   0.5\n",
      "1        Golf Course   0.5\n",
      "2        Yoga Studio   0.0\n",
      "3        Men's Store   0.0\n",
      "4  Mobile Phone Shop   0.0\n",
      "\n",
      "\n",
      "----Runnymede, Swansea----\n",
      "                venue  freq\n",
      "0         Pizza Place  0.08\n",
      "1                Café  0.08\n",
      "2  Italian Restaurant  0.06\n",
      "3    Sushi Restaurant  0.06\n",
      "4         Coffee Shop  0.06\n",
      "\n",
      "\n",
      "----Runnymede, The Junction North----\n",
      "                  venue  freq\n",
      "0  Caribbean Restaurant  0.33\n",
      "1         Grocery Store  0.33\n",
      "2           Pizza Place  0.33\n",
      "3           Yoga Studio  0.00\n",
      "4         Metro Station  0.00\n",
      "\n",
      "\n",
      "----Scarborough Village----\n",
      "                        venue  freq\n",
      "0                  Playground   1.0\n",
      "1                 Yoga Studio   0.0\n",
      "2                 Men's Store   0.0\n",
      "3  Modern European Restaurant   0.0\n",
      "4           Mobile Phone Shop   0.0\n",
      "\n",
      "\n",
      "----South Steeles, Silverstone, Humbergate, Jamestown, Mount Olive, Beaumond Heights, Thistletown, Albion Gardens----\n",
      "                  venue  freq\n",
      "0         Grocery Store  0.18\n",
      "1        Discount Store  0.09\n",
      "2          Liquor Store  0.09\n",
      "3  Fast Food Restaurant  0.09\n",
      "4        Sandwich Place  0.09\n",
      "\n",
      "\n",
      "----St. James Town----\n",
      "                venue  freq\n",
      "0                Café  0.06\n",
      "1         Coffee Shop  0.06\n",
      "2           Gastropub  0.04\n",
      "3        Cocktail Bar  0.04\n",
      "4  Italian Restaurant  0.04\n",
      "\n",
      "\n",
      "----St. James Town, Cabbagetown----\n",
      "                venue  freq\n",
      "0         Coffee Shop  0.07\n",
      "1              Bakery  0.05\n",
      "2         Pizza Place  0.05\n",
      "3              Market  0.05\n",
      "4  Italian Restaurant  0.05\n",
      "\n",
      "\n",
      "----Steeles West, L'Amoreaux West----\n",
      "                  venue  freq\n",
      "0  Fast Food Restaurant  0.13\n",
      "1    Chinese Restaurant  0.13\n",
      "2        Sandwich Place  0.07\n",
      "3        Breakfast Spot  0.07\n",
      "4              Pharmacy  0.07\n",
      "\n",
      "\n",
      "----Stn A PO Boxes----\n",
      "                venue  freq\n",
      "0         Coffee Shop  0.08\n",
      "1  Italian Restaurant  0.05\n",
      "2                Café  0.04\n",
      "3  Seafood Restaurant  0.04\n",
      "4               Hotel  0.03\n",
      "\n",
      "\n",
      "----Studio District----\n",
      "                 venue  freq\n",
      "0                 Café  0.10\n",
      "1          Coffee Shop  0.08\n",
      "2              Brewery  0.05\n",
      "3               Bakery  0.05\n",
      "4  American Restaurant  0.05\n",
      "\n",
      "\n",
      "----Summerhill West, Rathnelly, South Hill, Forest Hill SE, Deer Park----\n",
      "                venue  freq\n",
      "0                 Pub  0.12\n",
      "1         Coffee Shop  0.12\n",
      "2  Light Rail Station  0.06\n",
      "3    Sushi Restaurant  0.06\n",
      "4          Restaurant  0.06\n",
      "\n",
      "\n",
      "----The Annex, North Midtown, Yorkville----\n",
      "               venue  freq\n",
      "0     Sandwich Place  0.13\n",
      "1               Café  0.13\n",
      "2        Coffee Shop  0.09\n",
      "3     Cosmetics Shop  0.04\n",
      "4  Indian Restaurant  0.04\n",
      "\n",
      "\n",
      "----The Beaches----\n",
      "               venue  freq\n",
      "0              Trail  0.17\n",
      "1  Health Food Store  0.17\n",
      "2                Pub  0.17\n",
      "3   Asian Restaurant  0.17\n",
      "4        Coffee Shop  0.17\n",
      "\n",
      "\n",
      "----The Danforth West, Riverdale----\n",
      "                    venue  freq\n",
      "0        Greek Restaurant  0.19\n",
      "1      Italian Restaurant  0.07\n",
      "2             Coffee Shop  0.07\n",
      "3  Furniture / Home Store  0.05\n",
      "4      Frozen Yogurt Shop  0.05\n",
      "\n",
      "\n",
      "----The Kingsway, Montgomery Road , Old Mill North----\n",
      "               venue  freq\n",
      "0               Park  0.33\n",
      "1              River  0.33\n",
      "2               Pool  0.33\n",
      "3        Men's Store  0.00\n",
      "4  Mobile Phone Shop  0.00\n",
      "\n",
      "\n",
      "----Thorncliffe Park----\n",
      "               venue  freq\n",
      "0  Indian Restaurant  0.10\n",
      "1        Yoga Studio  0.05\n",
      "2     Discount Store  0.05\n",
      "3       Burger Joint  0.05\n",
      "4     Sandwich Place  0.05\n",
      "\n",
      "\n",
      "----Toronto Dominion Centre, Design Exchange----\n",
      "                 venue  freq\n",
      "0          Coffee Shop  0.11\n",
      "1                Hotel  0.08\n",
      "2                 Café  0.07\n",
      "3           Restaurant  0.05\n",
      "4  Japanese Restaurant  0.04\n",
      "\n",
      "\n",
      "----University of Toronto, Harbord----\n",
      "        venue  freq\n",
      "0        Café  0.17\n",
      "1         Bar  0.06\n",
      "2   Bookstore  0.06\n",
      "3  Restaurant  0.06\n",
      "4      Bakery  0.06\n",
      "\n",
      "\n",
      "----Victoria Village----\n",
      "                   venue  freq\n",
      "0  Portuguese Restaurant   0.2\n",
      "1          Grocery Store   0.2\n",
      "2             Nail Salon   0.2\n",
      "3            Coffee Shop   0.2\n",
      "4           Hockey Arena   0.2\n",
      "\n",
      "\n",
      "----Westmount----\n",
      "                venue  freq\n",
      "0         Pizza Place  0.25\n",
      "1        Intersection  0.12\n",
      "2  Chinese Restaurant  0.12\n",
      "3      Sandwich Place  0.12\n",
      "4         Coffee Shop  0.12\n",
      "\n",
      "\n",
      "----Weston----\n",
      "                        venue  freq\n",
      "0                        Park  0.67\n",
      "1           Convenience Store  0.33\n",
      "2                 Men's Store  0.00\n",
      "3  Modern European Restaurant  0.00\n",
      "4           Mobile Phone Shop  0.00\n",
      "\n",
      "\n",
      "----Wexford, Maryvale----\n",
      "                       venue  freq\n",
      "0  Middle Eastern Restaurant  0.29\n",
      "1             Breakfast Spot  0.14\n",
      "2                     Bakery  0.14\n",
      "3                Auto Garage  0.14\n",
      "4             Sandwich Place  0.14\n",
      "\n",
      "\n",
      "----Willowdale----\n",
      "              venue  freq\n",
      "0       Pizza Place  0.08\n",
      "1       Coffee Shop  0.08\n",
      "2  Ramen Restaurant  0.08\n",
      "3        Restaurant  0.05\n",
      "4  Sushi Restaurant  0.05\n",
      "\n",
      "\n",
      "----Woburn----\n",
      "                        venue  freq\n",
      "0                 Coffee Shop  0.50\n",
      "1           Korean Restaurant  0.25\n",
      "2           Convenience Store  0.25\n",
      "3                 Men's Store  0.00\n",
      "4  Modern European Restaurant  0.00\n",
      "\n",
      "\n",
      "----Woodbine Heights----\n",
      "                venue  freq\n",
      "0            Pharmacy  0.12\n",
      "1  Athletics & Sports  0.12\n",
      "2      Cosmetics Shop  0.12\n",
      "3         Curling Ice  0.12\n",
      "4        Skating Rink  0.12\n",
      "\n",
      "\n",
      "----York Mills West----\n",
      "               venue  freq\n",
      "0               Park  0.25\n",
      "1               Bank  0.25\n",
      "2  Convenience Store  0.25\n",
      "3                Bar  0.25\n",
      "4        Yoga Studio  0.00\n",
      "\n",
      "\n",
      "----York Mills, Silver Hills----\n",
      "                             venue  freq\n",
      "0                        Cafeteria   0.5\n",
      "1                             Park   0.5\n",
      "2                    Metro Station   0.0\n",
      "3  Molecular Gastronomy Restaurant   0.0\n",
      "4       Modern European Restaurant   0.0\n",
      "\n",
      "\n"
     ],
     "output_type": "stream"
    }
   ],
   "source": [
    "toronto_grouped = toronto_onehot.groupby('Neighborhood').mean().reset_index()\n",
    "\n",
    "num_top_venues = 5\n",
    "\n",
    "for hood in toronto_grouped['Neighborhood']:\n",
    "    print(\"----\"+hood+\"----\")\n",
    "    temp = toronto_grouped[toronto_grouped['Neighborhood'] == hood].T.reset_index()\n",
    "    temp.columns = ['venue','freq']\n",
    "    temp = temp.iloc[1:]\n",
    "    temp['freq'] = temp['freq'].astype(float)\n",
    "    temp = temp.round({'freq': 2})\n",
    "    print(temp.sort_values('freq', ascending=False).reset_index(drop=True).head(num_top_venues))\n",
    "    print('\\n')"
   ],
   "metadata": {
    "collapsed": false,
    "pycharm": {
     "name": "#%%\n",
     "is_executing": false
    }
   }
  },
  {
   "cell_type": "code",
   "execution_count": 215,
   "outputs": [],
   "source": [
    "def return_most_common_venues(row, num_top_venues):\n",
    "    row_categories = row.iloc[1:]\n",
    "    row_categories_sorted = row_categories.sort_values(ascending=False)\n",
    "    \n",
    "    return row_categories_sorted.index.values[0:num_top_venues]"
   ],
   "metadata": {
    "collapsed": false,
    "pycharm": {
     "name": "#%%\n",
     "is_executing": false
    }
   }
  },
  {
   "cell_type": "code",
   "execution_count": 216,
   "outputs": [
    {
     "name": "stderr",
     "text": [
      "/usr/local/lib/python3.7/site-packages/ipykernel_launcher.py:7: FutureWarning: The pandas.np module is deprecated and will be removed from pandas in a future version. Import numpy directly instead\n",
      "  import sys\n",
      "/usr/local/lib/python3.7/site-packages/ipykernel_launcher.py:17: FutureWarning: The pandas.np module is deprecated and will be removed from pandas in a future version. Import numpy directly instead\n"
     ],
     "output_type": "stream"
    }
   ],
   "source": [
    "num_top_venues = 10\n",
    "\n",
    "indicators = ['st', 'nd', 'rd']\n",
    "\n",
    "# create columns according to number of top venues\n",
    "columns = ['Neighborhood']\n",
    "for ind in pd.np.arange(num_top_venues):\n",
    "    try:\n",
    "        columns.append('{}{} Most Common Venue'.format(ind+1, indicators[ind]))\n",
    "    except:\n",
    "        columns.append('{}th Most Common Venue'.format(ind+1))\n",
    "\n",
    "# create a new dataframe\n",
    "neighborhoods_venues_sorted = pd.DataFrame(columns=columns)\n",
    "neighborhoods_venues_sorted['Neighborhood'] = toronto_grouped['Neighborhood']\n",
    "\n",
    "for ind in pd.np.arange(toronto_grouped.shape[0]):\n",
    "    neighborhoods_venues_sorted.iloc[ind, 1:] = return_most_common_venues(toronto_grouped.iloc[ind, :], num_top_venues)\n"
   ],
   "metadata": {
    "collapsed": false,
    "pycharm": {
     "name": "#%%\n",
     "is_executing": false
    }
   }
  },
  {
   "cell_type": "markdown",
   "source": [
    "#### do the clustering"
   ],
   "metadata": {
    "collapsed": false,
    "pycharm": {
     "name": "#%% md\n"
    }
   }
  },
  {
   "cell_type": "code",
   "execution_count": 217,
   "outputs": [
    {
     "data": {
      "text/plain": "array([1, 1, 1, 1, 1, 1, 1, 1, 1, 1], dtype=int32)"
     },
     "metadata": {},
     "output_type": "execute_result",
     "execution_count": 217
    }
   ],
   "source": [
    "# set number of clusters\n",
    "kclusters = 5\n",
    "\n",
    "toronto_grouped_clustering = toronto_grouped.drop('Neighborhood', 1)\n",
    "\n",
    "# run k-means clustering\n",
    "kmeans = KMeans(n_clusters=kclusters, random_state=0).fit(toronto_grouped_clustering)\n",
    "\n",
    "# check cluster labels generated for each row in the dataframe\n",
    "kmeans.labels_[0:10]"
   ],
   "metadata": {
    "collapsed": false,
    "pycharm": {
     "name": "#%%\n",
     "is_executing": false
    }
   }
  },
  {
   "cell_type": "code",
   "execution_count": 218,
   "outputs": [
    {
     "data": {
      "text/plain": "  Postal code           Borough                                 Neighborhood  \\\n0         M3A        North York                                    Parkwoods   \n1         M4A        North York                             Victoria Village   \n2         M5A  Downtown Toronto                    Regent Park, Harbourfront   \n3         M6A        North York             Lawrence Manor, Lawrence Heights   \n4         M7A  Downtown Toronto  Queen's Park, Ontario Provincial Government   \n\n    Latitude  Longitude  Cluster Labels 1st Most Common Venue  \\\n0  43.753259 -79.329656             0.0                  Park   \n1  43.725882 -79.315572             1.0         Grocery Store   \n2  43.654260 -79.360636             1.0           Coffee Shop   \n3  43.718518 -79.464763             1.0        Clothing Store   \n4  43.662301 -79.389494             1.0           Coffee Shop   \n\n   2nd Most Common Venue 3rd Most Common Venue 4th Most Common Venue  \\\n0        Fireworks Store     Food & Drink Shop            Donut Shop   \n1  Portuguese Restaurant           Coffee Shop            Nail Salon   \n2                   Park                Bakery                   Pub   \n3          Women's Store           Coffee Shop            Shoe Store   \n4                  Diner      Sushi Restaurant                   Gym   \n\n  5th Most Common Venue 6th Most Common Venue   7th Most Common Venue  \\\n0                 Diner        Discount Store     Distribution Center   \n1          Hockey Arena                 Diner          Discount Store   \n2        Breakfast Spot            Restaurant                    Café   \n3    Miscellaneous Shop              Boutique  Furniture / Home Store   \n4                  Park    Mexican Restaurant               Juice Bar   \n\n  8th Most Common Venue 9th Most Common Venue 10th Most Common Venue  \n0               Dog Run      Doner Restaurant              Drugstore  \n1   Distribution Center               Dog Run       Doner Restaurant  \n2               Theater        Farmers Market            Event Space  \n3           Event Space     Accessories Store  Vietnamese Restaurant  \n4    Italian Restaurant            Hobby Shop    Fried Chicken Joint  ",
      "text/html": "<div>\n<style scoped>\n    .dataframe tbody tr th:only-of-type {\n        vertical-align: middle;\n    }\n\n    .dataframe tbody tr th {\n        vertical-align: top;\n    }\n\n    .dataframe thead th {\n        text-align: right;\n    }\n</style>\n<table border=\"1\" class=\"dataframe\">\n  <thead>\n    <tr style=\"text-align: right;\">\n      <th></th>\n      <th>Postal code</th>\n      <th>Borough</th>\n      <th>Neighborhood</th>\n      <th>Latitude</th>\n      <th>Longitude</th>\n      <th>Cluster Labels</th>\n      <th>1st Most Common Venue</th>\n      <th>2nd Most Common Venue</th>\n      <th>3rd Most Common Venue</th>\n      <th>4th Most Common Venue</th>\n      <th>5th Most Common Venue</th>\n      <th>6th Most Common Venue</th>\n      <th>7th Most Common Venue</th>\n      <th>8th Most Common Venue</th>\n      <th>9th Most Common Venue</th>\n      <th>10th Most Common Venue</th>\n    </tr>\n  </thead>\n  <tbody>\n    <tr>\n      <th>0</th>\n      <td>M3A</td>\n      <td>North York</td>\n      <td>Parkwoods</td>\n      <td>43.753259</td>\n      <td>-79.329656</td>\n      <td>0.0</td>\n      <td>Park</td>\n      <td>Fireworks Store</td>\n      <td>Food &amp; Drink Shop</td>\n      <td>Donut Shop</td>\n      <td>Diner</td>\n      <td>Discount Store</td>\n      <td>Distribution Center</td>\n      <td>Dog Run</td>\n      <td>Doner Restaurant</td>\n      <td>Drugstore</td>\n    </tr>\n    <tr>\n      <th>1</th>\n      <td>M4A</td>\n      <td>North York</td>\n      <td>Victoria Village</td>\n      <td>43.725882</td>\n      <td>-79.315572</td>\n      <td>1.0</td>\n      <td>Grocery Store</td>\n      <td>Portuguese Restaurant</td>\n      <td>Coffee Shop</td>\n      <td>Nail Salon</td>\n      <td>Hockey Arena</td>\n      <td>Diner</td>\n      <td>Discount Store</td>\n      <td>Distribution Center</td>\n      <td>Dog Run</td>\n      <td>Doner Restaurant</td>\n    </tr>\n    <tr>\n      <th>2</th>\n      <td>M5A</td>\n      <td>Downtown Toronto</td>\n      <td>Regent Park, Harbourfront</td>\n      <td>43.654260</td>\n      <td>-79.360636</td>\n      <td>1.0</td>\n      <td>Coffee Shop</td>\n      <td>Park</td>\n      <td>Bakery</td>\n      <td>Pub</td>\n      <td>Breakfast Spot</td>\n      <td>Restaurant</td>\n      <td>Café</td>\n      <td>Theater</td>\n      <td>Farmers Market</td>\n      <td>Event Space</td>\n    </tr>\n    <tr>\n      <th>3</th>\n      <td>M6A</td>\n      <td>North York</td>\n      <td>Lawrence Manor, Lawrence Heights</td>\n      <td>43.718518</td>\n      <td>-79.464763</td>\n      <td>1.0</td>\n      <td>Clothing Store</td>\n      <td>Women's Store</td>\n      <td>Coffee Shop</td>\n      <td>Shoe Store</td>\n      <td>Miscellaneous Shop</td>\n      <td>Boutique</td>\n      <td>Furniture / Home Store</td>\n      <td>Event Space</td>\n      <td>Accessories Store</td>\n      <td>Vietnamese Restaurant</td>\n    </tr>\n    <tr>\n      <th>4</th>\n      <td>M7A</td>\n      <td>Downtown Toronto</td>\n      <td>Queen's Park, Ontario Provincial Government</td>\n      <td>43.662301</td>\n      <td>-79.389494</td>\n      <td>1.0</td>\n      <td>Coffee Shop</td>\n      <td>Diner</td>\n      <td>Sushi Restaurant</td>\n      <td>Gym</td>\n      <td>Park</td>\n      <td>Mexican Restaurant</td>\n      <td>Juice Bar</td>\n      <td>Italian Restaurant</td>\n      <td>Hobby Shop</td>\n      <td>Fried Chicken Joint</td>\n    </tr>\n  </tbody>\n</table>\n</div>"
     },
     "metadata": {},
     "output_type": "execute_result",
     "execution_count": 218
    }
   ],
   "source": [
    "# add clustering labels\n",
    "neighborhoods_venues_sorted.insert(0, 'Cluster Labels', kmeans.labels_)\n",
    "\n",
    "toronto_merged = toronto_data\n",
    "\n",
    "# merge toronto_grouped with toronto_data to add latitude/longitude for each neighborhood\n",
    "toronto_merged = toronto_merged.join(neighborhoods_venues_sorted.set_index('Neighborhood'), on='Neighborhood')\n",
    "\n",
    "# check the last columns!\n",
    "toronto_merged.head()"
   ],
   "metadata": {
    "collapsed": false,
    "pycharm": {
     "name": "#%%\n",
     "is_executing": false
    }
   }
  },
  {
   "cell_type": "code",
   "execution_count": 219,
   "outputs": [
    {
     "name": "stderr",
     "text": [
      "/usr/local/lib/python3.7/site-packages/ipykernel_launcher.py:5: FutureWarning: The pandas.np module is deprecated and will be removed from pandas in a future version. Import numpy directly instead\n",
      "  \"\"\"\n",
      "/usr/local/lib/python3.7/site-packages/ipykernel_launcher.py:7: FutureWarning: The pandas.np module is deprecated and will be removed from pandas in a future version. Import numpy directly instead\n",
      "  import sys\n"
     ],
     "output_type": "stream"
    },
    {
     "data": {
      "text/plain": "<folium.folium.Map at 0x1146e3610>",
      "text/html": "<div style=\"width:100%;\"><div style=\"position:relative;width:100%;height:0;padding-bottom:60%;\"><iframe src=\"about:blank\" style=\"position:absolute;width:100%;height:100%;left:0;top:0;border:none !important;\" data-html=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 onload=\"this.contentDocument.open();this.contentDocument.write(atob(this.getAttribute('data-html')));this.contentDocument.close();\" allowfullscreen webkitallowfullscreen mozallowfullscreen></iframe></div></div>"
     },
     "metadata": {},
     "output_type": "execute_result",
     "execution_count": 219
    }
   ],
   "source": [
    "# create map\n",
    "map_clusters = folium.Map(location=[latitude, longitude], zoom_start=11)\n",
    "\n",
    "# set color scheme for the clusters\n",
    "x = pd.np.arange(kclusters)\n",
    "ys = [i + x + (i*x)**2 for i in range(kclusters)]\n",
    "colors_array = cm.rainbow(pd.np.linspace(0, 1, len(ys)))\n",
    "rainbow = [colors.rgb2hex(i) for i in colors_array]\n",
    "\n",
    "# add markers to the map\n",
    "markers_colors = []\n",
    "for lat, lon, poi, cluster in zip(toronto_merged['Latitude'], toronto_merged['Longitude'], toronto_merged['Neighborhood'], toronto_merged['Cluster Labels']):\n",
    "    label = folium.Popup(str(poi) + ' Cluster ' + str(cluster), parse_html=True)\n",
    "    if cluster == cluster :\n",
    "        folium.CircleMarker(\n",
    "            [lat, lon],\n",
    "            radius=5,\n",
    "            popup=label,\n",
    "            color=rainbow[int(cluster-1)],\n",
    "            fill=True,\n",
    "            fill_color=rainbow[int(cluster-1)],\n",
    "            fill_opacity=0.7).add_to(map_clusters)\n",
    "       \n",
    "map_clusters"
   ],
   "metadata": {
    "collapsed": false,
    "pycharm": {
     "name": "#%%\n",
     "is_executing": false
    }
   }
  },
  {
   "cell_type": "markdown",
   "source": [
    "#### Examine Clusters"
   ],
   "metadata": {
    "collapsed": false,
    "pycharm": {
     "name": "#%% md\n"
    }
   }
  },
  {
   "cell_type": "markdown",
   "source": [
    "#### Clusters 1"
   ],
   "metadata": {
    "collapsed": false,
    "pycharm": {
     "name": "#%% md\n"
    }
   }
  },
  {
   "cell_type": "code",
   "execution_count": 220,
   "outputs": [
    {
     "data": {
      "text/plain": "                                         Neighborhood  Cluster Labels  \\\n0                                           Parkwoods             0.0   \n21                                Caledonia-Fairbanks             0.0   \n35                                       East Toronto             0.0   \n45                           York Mills, Silver Hills             0.0   \n49           North Park, Maple Leaf Park, Upwood Park             0.0   \n61                                      Lawrence Park             0.0   \n64                                             Weston             0.0   \n66                                    York Mills West             0.0   \n85  Milliken, Agincourt North, Steeles East, L'Amo...             0.0   \n91                                           Rosedale             0.0   \n98     The Kingsway, Montgomery Road , Old Mill North             0.0   \n\n   1st Most Common Venue 2nd Most Common Venue       3rd Most Common Venue  \\\n0                   Park       Fireworks Store           Food & Drink Shop   \n21                  Park                  Pool               Women's Store   \n35                  Park         Metro Station           Convenience Store   \n45             Cafeteria                  Park        Colombian Restaurant   \n49                  Park                Bakery  Construction & Landscaping   \n61                  Park           Swim School                    Bus Line   \n64                  Park     Convenience Store                   Drugstore   \n66                  Park                  Bank                         Bar   \n85                  Park            Playground                  Donut Shop   \n91                  Park            Playground                       Trail   \n98                  Park                  Pool                       River   \n\n      4th Most Common Venue        5th Most Common Venue  \\\n0                Donut Shop                        Diner   \n21                  Airport               Farmers Market   \n35               Donut Shop                        Diner   \n45  Comfort Food Restaurant                  Event Space   \n49                Drugstore               Discount Store   \n61         Doner Restaurant                        Diner   \n64                    Diner               Discount Store   \n66        Convenience Store                   Donut Shop   \n85       Dim Sum Restaurant                        Diner   \n91        Electronics Store  Eastern European Restaurant   \n98                  Dog Run                 Dessert Shop   \n\n   6th Most Common Venue 7th Most Common Venue 8th Most Common Venue  \\\n0         Discount Store   Distribution Center               Dog Run   \n21           Event Space  Ethiopian Restaurant   Empanada Restaurant   \n35        Discount Store   Distribution Center               Dog Run   \n45  Ethiopian Restaurant   Empanada Restaurant     Electronics Store   \n49   Distribution Center               Dog Run      Doner Restaurant   \n61        Discount Store   Distribution Center               Dog Run   \n64   Distribution Center               Dog Run      Doner Restaurant   \n66        Discount Store   Distribution Center               Dog Run   \n85        Discount Store   Distribution Center               Dog Run   \n91   Dumpling Restaurant             Drugstore   Empanada Restaurant   \n98    Dim Sum Restaurant                 Diner        Discount Store   \n\n          9th Most Common Venue       10th Most Common Venue  \n0              Doner Restaurant                    Drugstore  \n21            Electronics Store  Eastern European Restaurant  \n35             Doner Restaurant                    Drugstore  \n45  Eastern European Restaurant          Dumpling Restaurant  \n49                   Donut Shop          Dumpling Restaurant  \n61                   Donut Shop           Falafel Restaurant  \n64                   Donut Shop                Women's Store  \n66             Doner Restaurant                    Drugstore  \n85             Doner Restaurant                    Drugstore  \n91                   Donut Shop                Deli / Bodega  \n98          Distribution Center             Doner Restaurant  ",
      "text/html": "<div>\n<style scoped>\n    .dataframe tbody tr th:only-of-type {\n        vertical-align: middle;\n    }\n\n    .dataframe tbody tr th {\n        vertical-align: top;\n    }\n\n    .dataframe thead th {\n        text-align: right;\n    }\n</style>\n<table border=\"1\" class=\"dataframe\">\n  <thead>\n    <tr style=\"text-align: right;\">\n      <th></th>\n      <th>Neighborhood</th>\n      <th>Cluster Labels</th>\n      <th>1st Most Common Venue</th>\n      <th>2nd Most Common Venue</th>\n      <th>3rd Most Common Venue</th>\n      <th>4th Most Common Venue</th>\n      <th>5th Most Common Venue</th>\n      <th>6th Most Common Venue</th>\n      <th>7th Most Common Venue</th>\n      <th>8th Most Common Venue</th>\n      <th>9th Most Common Venue</th>\n      <th>10th Most Common Venue</th>\n    </tr>\n  </thead>\n  <tbody>\n    <tr>\n      <th>0</th>\n      <td>Parkwoods</td>\n      <td>0.0</td>\n      <td>Park</td>\n      <td>Fireworks Store</td>\n      <td>Food &amp; Drink Shop</td>\n      <td>Donut Shop</td>\n      <td>Diner</td>\n      <td>Discount Store</td>\n      <td>Distribution Center</td>\n      <td>Dog Run</td>\n      <td>Doner Restaurant</td>\n      <td>Drugstore</td>\n    </tr>\n    <tr>\n      <th>21</th>\n      <td>Caledonia-Fairbanks</td>\n      <td>0.0</td>\n      <td>Park</td>\n      <td>Pool</td>\n      <td>Women's Store</td>\n      <td>Airport</td>\n      <td>Farmers Market</td>\n      <td>Event Space</td>\n      <td>Ethiopian Restaurant</td>\n      <td>Empanada Restaurant</td>\n      <td>Electronics Store</td>\n      <td>Eastern European Restaurant</td>\n    </tr>\n    <tr>\n      <th>35</th>\n      <td>East Toronto</td>\n      <td>0.0</td>\n      <td>Park</td>\n      <td>Metro Station</td>\n      <td>Convenience Store</td>\n      <td>Donut Shop</td>\n      <td>Diner</td>\n      <td>Discount Store</td>\n      <td>Distribution Center</td>\n      <td>Dog Run</td>\n      <td>Doner Restaurant</td>\n      <td>Drugstore</td>\n    </tr>\n    <tr>\n      <th>45</th>\n      <td>York Mills, Silver Hills</td>\n      <td>0.0</td>\n      <td>Cafeteria</td>\n      <td>Park</td>\n      <td>Colombian Restaurant</td>\n      <td>Comfort Food Restaurant</td>\n      <td>Event Space</td>\n      <td>Ethiopian Restaurant</td>\n      <td>Empanada Restaurant</td>\n      <td>Electronics Store</td>\n      <td>Eastern European Restaurant</td>\n      <td>Dumpling Restaurant</td>\n    </tr>\n    <tr>\n      <th>49</th>\n      <td>North Park, Maple Leaf Park, Upwood Park</td>\n      <td>0.0</td>\n      <td>Park</td>\n      <td>Bakery</td>\n      <td>Construction &amp; Landscaping</td>\n      <td>Drugstore</td>\n      <td>Discount Store</td>\n      <td>Distribution Center</td>\n      <td>Dog Run</td>\n      <td>Doner Restaurant</td>\n      <td>Donut Shop</td>\n      <td>Dumpling Restaurant</td>\n    </tr>\n    <tr>\n      <th>61</th>\n      <td>Lawrence Park</td>\n      <td>0.0</td>\n      <td>Park</td>\n      <td>Swim School</td>\n      <td>Bus Line</td>\n      <td>Doner Restaurant</td>\n      <td>Diner</td>\n      <td>Discount Store</td>\n      <td>Distribution Center</td>\n      <td>Dog Run</td>\n      <td>Donut Shop</td>\n      <td>Falafel Restaurant</td>\n    </tr>\n    <tr>\n      <th>64</th>\n      <td>Weston</td>\n      <td>0.0</td>\n      <td>Park</td>\n      <td>Convenience Store</td>\n      <td>Drugstore</td>\n      <td>Diner</td>\n      <td>Discount Store</td>\n      <td>Distribution Center</td>\n      <td>Dog Run</td>\n      <td>Doner Restaurant</td>\n      <td>Donut Shop</td>\n      <td>Women's Store</td>\n    </tr>\n    <tr>\n      <th>66</th>\n      <td>York Mills West</td>\n      <td>0.0</td>\n      <td>Park</td>\n      <td>Bank</td>\n      <td>Bar</td>\n      <td>Convenience Store</td>\n      <td>Donut Shop</td>\n      <td>Discount Store</td>\n      <td>Distribution Center</td>\n      <td>Dog Run</td>\n      <td>Doner Restaurant</td>\n      <td>Drugstore</td>\n    </tr>\n    <tr>\n      <th>85</th>\n      <td>Milliken, Agincourt North, Steeles East, L'Amo...</td>\n      <td>0.0</td>\n      <td>Park</td>\n      <td>Playground</td>\n      <td>Donut Shop</td>\n      <td>Dim Sum Restaurant</td>\n      <td>Diner</td>\n      <td>Discount Store</td>\n      <td>Distribution Center</td>\n      <td>Dog Run</td>\n      <td>Doner Restaurant</td>\n      <td>Drugstore</td>\n    </tr>\n    <tr>\n      <th>91</th>\n      <td>Rosedale</td>\n      <td>0.0</td>\n      <td>Park</td>\n      <td>Playground</td>\n      <td>Trail</td>\n      <td>Electronics Store</td>\n      <td>Eastern European Restaurant</td>\n      <td>Dumpling Restaurant</td>\n      <td>Drugstore</td>\n      <td>Empanada Restaurant</td>\n      <td>Donut Shop</td>\n      <td>Deli / Bodega</td>\n    </tr>\n    <tr>\n      <th>98</th>\n      <td>The Kingsway, Montgomery Road , Old Mill North</td>\n      <td>0.0</td>\n      <td>Park</td>\n      <td>Pool</td>\n      <td>River</td>\n      <td>Dog Run</td>\n      <td>Dessert Shop</td>\n      <td>Dim Sum Restaurant</td>\n      <td>Diner</td>\n      <td>Discount Store</td>\n      <td>Distribution Center</td>\n      <td>Doner Restaurant</td>\n    </tr>\n  </tbody>\n</table>\n</div>"
     },
     "metadata": {},
     "output_type": "execute_result",
     "execution_count": 220
    }
   ],
   "source": [
    "toronto_merged.loc[toronto_merged['Cluster Labels'] == 0, toronto_merged.columns[[2] + list(range(5, toronto_merged.shape[1]))]]"
   ],
   "metadata": {
    "collapsed": false,
    "pycharm": {
     "name": "#%%\n",
     "is_executing": false
    }
   }
  },
  {
   "cell_type": "markdown",
   "source": [
    "#### Clusters 2"
   ],
   "metadata": {
    "collapsed": false,
    "pycharm": {
     "name": "#%% md\n"
    }
   }
  },
  {
   "cell_type": "code",
   "execution_count": 221,
   "outputs": [
    {
     "data": {
      "text/plain": "                                          Neighborhood  Cluster Labels  \\\n1                                     Victoria Village             1.0   \n2                            Regent Park, Harbourfront             1.0   \n3                     Lawrence Manor, Lawrence Heights             1.0   \n4          Queen's Park, Ontario Provincial Government             1.0   \n7                                            Don Mills             1.0   \n..                                                 ...             ...   \n97              First Canadian Place, Underground city             1.0   \n99                                Church and Wellesley             1.0   \n100              Business reply mail Processing CentrE             1.0   \n101  Old Mill South, King's Mill Park, Sunnylea, Hu...             1.0   \n102  Mimico NW, The Queensway West, South of Bloor,...             1.0   \n\n    1st Most Common Venue       2nd Most Common Venue 3rd Most Common Venue  \\\n1           Grocery Store       Portuguese Restaurant           Coffee Shop   \n2             Coffee Shop                        Park                Bakery   \n3          Clothing Store               Women's Store           Coffee Shop   \n4             Coffee Shop                       Diner      Sushi Restaurant   \n7                     Gym                 Coffee Shop            Restaurant   \n..                    ...                         ...                   ...   \n97            Coffee Shop                        Café            Restaurant   \n99            Coffee Shop            Sushi Restaurant   Japanese Restaurant   \n100               Brewery              Farmers Market         Auto Workshop   \n101             Locksmith  Construction & Landscaping        Breakfast Spot   \n102                   Gym           Convenience Store        Discount Store   \n\n    4th Most Common Venue 5th Most Common Venue 6th Most Common Venue  \\\n1              Nail Salon          Hockey Arena                 Diner   \n2                     Pub        Breakfast Spot            Restaurant   \n3              Shoe Store    Miscellaneous Shop              Boutique   \n4                     Gym                  Park    Mexican Restaurant   \n7              Beer Store      Asian Restaurant   Japanese Restaurant   \n..                    ...                   ...                   ...   \n97                  Hotel                   Gym    Seafood Restaurant   \n99             Restaurant          Burger Joint                   Pub   \n100         Burrito Place                   Spa                Garden   \n101        Baseball Field         Women's Store   Dumpling Restaurant   \n102         Burrito Place          Burger Joint        Sandwich Place   \n\n      7th Most Common Venue 8th Most Common Venue   9th Most Common Venue  \\\n1            Discount Store   Distribution Center                 Dog Run   \n2                      Café               Theater          Farmers Market   \n3    Furniture / Home Store           Event Space       Accessories Store   \n4                 Juice Bar    Italian Restaurant              Hobby Shop   \n7       Sporting Goods Shop        Sandwich Place          Baseball Field   \n..                      ...                   ...                     ...   \n97                      Bar             Gastropub              Steakhouse   \n99                    Hotel           Yoga Studio                 Gay Bar   \n100    Fast Food Restaurant           Pizza Place           Garden Center   \n101                 Dog Run      Doner Restaurant              Donut Shop   \n102         Supplement Shop            Kids Store  Thrift / Vintage Store   \n\n    10th Most Common Venue  \n1         Doner Restaurant  \n2              Event Space  \n3    Vietnamese Restaurant  \n4      Fried Chicken Joint  \n7                     Café  \n..                     ...  \n97        Asian Restaurant  \n99               Gastropub  \n100     Light Rail Station  \n101              Drugstore  \n102         Hardware Store  \n\n[84 rows x 12 columns]",
      "text/html": "<div>\n<style scoped>\n    .dataframe tbody tr th:only-of-type {\n        vertical-align: middle;\n    }\n\n    .dataframe tbody tr th {\n        vertical-align: top;\n    }\n\n    .dataframe thead th {\n        text-align: right;\n    }\n</style>\n<table border=\"1\" class=\"dataframe\">\n  <thead>\n    <tr style=\"text-align: right;\">\n      <th></th>\n      <th>Neighborhood</th>\n      <th>Cluster Labels</th>\n      <th>1st Most Common Venue</th>\n      <th>2nd Most Common Venue</th>\n      <th>3rd Most Common Venue</th>\n      <th>4th Most Common Venue</th>\n      <th>5th Most Common Venue</th>\n      <th>6th Most Common Venue</th>\n      <th>7th Most Common Venue</th>\n      <th>8th Most Common Venue</th>\n      <th>9th Most Common Venue</th>\n      <th>10th Most Common Venue</th>\n    </tr>\n  </thead>\n  <tbody>\n    <tr>\n      <th>1</th>\n      <td>Victoria Village</td>\n      <td>1.0</td>\n      <td>Grocery Store</td>\n      <td>Portuguese Restaurant</td>\n      <td>Coffee Shop</td>\n      <td>Nail Salon</td>\n      <td>Hockey Arena</td>\n      <td>Diner</td>\n      <td>Discount Store</td>\n      <td>Distribution Center</td>\n      <td>Dog Run</td>\n      <td>Doner Restaurant</td>\n    </tr>\n    <tr>\n      <th>2</th>\n      <td>Regent Park, Harbourfront</td>\n      <td>1.0</td>\n      <td>Coffee Shop</td>\n      <td>Park</td>\n      <td>Bakery</td>\n      <td>Pub</td>\n      <td>Breakfast Spot</td>\n      <td>Restaurant</td>\n      <td>Café</td>\n      <td>Theater</td>\n      <td>Farmers Market</td>\n      <td>Event Space</td>\n    </tr>\n    <tr>\n      <th>3</th>\n      <td>Lawrence Manor, Lawrence Heights</td>\n      <td>1.0</td>\n      <td>Clothing Store</td>\n      <td>Women's Store</td>\n      <td>Coffee Shop</td>\n      <td>Shoe Store</td>\n      <td>Miscellaneous Shop</td>\n      <td>Boutique</td>\n      <td>Furniture / Home Store</td>\n      <td>Event Space</td>\n      <td>Accessories Store</td>\n      <td>Vietnamese Restaurant</td>\n    </tr>\n    <tr>\n      <th>4</th>\n      <td>Queen's Park, Ontario Provincial Government</td>\n      <td>1.0</td>\n      <td>Coffee Shop</td>\n      <td>Diner</td>\n      <td>Sushi Restaurant</td>\n      <td>Gym</td>\n      <td>Park</td>\n      <td>Mexican Restaurant</td>\n      <td>Juice Bar</td>\n      <td>Italian Restaurant</td>\n      <td>Hobby Shop</td>\n      <td>Fried Chicken Joint</td>\n    </tr>\n    <tr>\n      <th>7</th>\n      <td>Don Mills</td>\n      <td>1.0</td>\n      <td>Gym</td>\n      <td>Coffee Shop</td>\n      <td>Restaurant</td>\n      <td>Beer Store</td>\n      <td>Asian Restaurant</td>\n      <td>Japanese Restaurant</td>\n      <td>Sporting Goods Shop</td>\n      <td>Sandwich Place</td>\n      <td>Baseball Field</td>\n      <td>Café</td>\n    </tr>\n    <tr>\n      <th>...</th>\n      <td>...</td>\n      <td>...</td>\n      <td>...</td>\n      <td>...</td>\n      <td>...</td>\n      <td>...</td>\n      <td>...</td>\n      <td>...</td>\n      <td>...</td>\n      <td>...</td>\n      <td>...</td>\n      <td>...</td>\n    </tr>\n    <tr>\n      <th>97</th>\n      <td>First Canadian Place, Underground city</td>\n      <td>1.0</td>\n      <td>Coffee Shop</td>\n      <td>Café</td>\n      <td>Restaurant</td>\n      <td>Hotel</td>\n      <td>Gym</td>\n      <td>Seafood Restaurant</td>\n      <td>Bar</td>\n      <td>Gastropub</td>\n      <td>Steakhouse</td>\n      <td>Asian Restaurant</td>\n    </tr>\n    <tr>\n      <th>99</th>\n      <td>Church and Wellesley</td>\n      <td>1.0</td>\n      <td>Coffee Shop</td>\n      <td>Sushi Restaurant</td>\n      <td>Japanese Restaurant</td>\n      <td>Restaurant</td>\n      <td>Burger Joint</td>\n      <td>Pub</td>\n      <td>Hotel</td>\n      <td>Yoga Studio</td>\n      <td>Gay Bar</td>\n      <td>Gastropub</td>\n    </tr>\n    <tr>\n      <th>100</th>\n      <td>Business reply mail Processing CentrE</td>\n      <td>1.0</td>\n      <td>Brewery</td>\n      <td>Farmers Market</td>\n      <td>Auto Workshop</td>\n      <td>Burrito Place</td>\n      <td>Spa</td>\n      <td>Garden</td>\n      <td>Fast Food Restaurant</td>\n      <td>Pizza Place</td>\n      <td>Garden Center</td>\n      <td>Light Rail Station</td>\n    </tr>\n    <tr>\n      <th>101</th>\n      <td>Old Mill South, King's Mill Park, Sunnylea, Hu...</td>\n      <td>1.0</td>\n      <td>Locksmith</td>\n      <td>Construction &amp; Landscaping</td>\n      <td>Breakfast Spot</td>\n      <td>Baseball Field</td>\n      <td>Women's Store</td>\n      <td>Dumpling Restaurant</td>\n      <td>Dog Run</td>\n      <td>Doner Restaurant</td>\n      <td>Donut Shop</td>\n      <td>Drugstore</td>\n    </tr>\n    <tr>\n      <th>102</th>\n      <td>Mimico NW, The Queensway West, South of Bloor,...</td>\n      <td>1.0</td>\n      <td>Gym</td>\n      <td>Convenience Store</td>\n      <td>Discount Store</td>\n      <td>Burrito Place</td>\n      <td>Burger Joint</td>\n      <td>Sandwich Place</td>\n      <td>Supplement Shop</td>\n      <td>Kids Store</td>\n      <td>Thrift / Vintage Store</td>\n      <td>Hardware Store</td>\n    </tr>\n  </tbody>\n</table>\n<p>84 rows × 12 columns</p>\n</div>"
     },
     "metadata": {},
     "output_type": "execute_result",
     "execution_count": 221
    }
   ],
   "source": [
    "toronto_merged.loc[toronto_merged['Cluster Labels'] == 1, toronto_merged.columns[[2] + list(range(5, toronto_merged.shape[1]))]]"
   ],
   "metadata": {
    "collapsed": false,
    "pycharm": {
     "name": "#%%\n",
     "is_executing": false
    }
   }
  },
  {
   "cell_type": "markdown",
   "source": [
    "#### Clusters 3"
   ],
   "metadata": {
    "collapsed": false
   }
  },
  {
   "cell_type": "code",
   "execution_count": 222,
   "outputs": [
    {
     "data": {
      "text/plain": "                   Neighborhood  Cluster Labels 1st Most Common Venue  \\\n32          Scarborough Village             2.0            Playground   \n83  Moore Park, Summerhill East             2.0            Restaurant   \n\n   2nd Most Common Venue 3rd Most Common Venue 4th Most Common Venue  \\\n32         Women's Store            Donut Shop    Dim Sum Restaurant   \n83            Playground            Donut Shop    Dim Sum Restaurant   \n\n   5th Most Common Venue 6th Most Common Venue 7th Most Common Venue  \\\n32                 Diner        Discount Store   Distribution Center   \n83                 Diner        Discount Store   Distribution Center   \n\n   8th Most Common Venue 9th Most Common Venue 10th Most Common Venue  \n32               Dog Run      Doner Restaurant              Drugstore  \n83               Dog Run      Doner Restaurant              Drugstore  ",
      "text/html": "<div>\n<style scoped>\n    .dataframe tbody tr th:only-of-type {\n        vertical-align: middle;\n    }\n\n    .dataframe tbody tr th {\n        vertical-align: top;\n    }\n\n    .dataframe thead th {\n        text-align: right;\n    }\n</style>\n<table border=\"1\" class=\"dataframe\">\n  <thead>\n    <tr style=\"text-align: right;\">\n      <th></th>\n      <th>Neighborhood</th>\n      <th>Cluster Labels</th>\n      <th>1st Most Common Venue</th>\n      <th>2nd Most Common Venue</th>\n      <th>3rd Most Common Venue</th>\n      <th>4th Most Common Venue</th>\n      <th>5th Most Common Venue</th>\n      <th>6th Most Common Venue</th>\n      <th>7th Most Common Venue</th>\n      <th>8th Most Common Venue</th>\n      <th>9th Most Common Venue</th>\n      <th>10th Most Common Venue</th>\n    </tr>\n  </thead>\n  <tbody>\n    <tr>\n      <th>32</th>\n      <td>Scarborough Village</td>\n      <td>2.0</td>\n      <td>Playground</td>\n      <td>Women's Store</td>\n      <td>Donut Shop</td>\n      <td>Dim Sum Restaurant</td>\n      <td>Diner</td>\n      <td>Discount Store</td>\n      <td>Distribution Center</td>\n      <td>Dog Run</td>\n      <td>Doner Restaurant</td>\n      <td>Drugstore</td>\n    </tr>\n    <tr>\n      <th>83</th>\n      <td>Moore Park, Summerhill East</td>\n      <td>2.0</td>\n      <td>Restaurant</td>\n      <td>Playground</td>\n      <td>Donut Shop</td>\n      <td>Dim Sum Restaurant</td>\n      <td>Diner</td>\n      <td>Discount Store</td>\n      <td>Distribution Center</td>\n      <td>Dog Run</td>\n      <td>Doner Restaurant</td>\n      <td>Drugstore</td>\n    </tr>\n  </tbody>\n</table>\n</div>"
     },
     "metadata": {},
     "output_type": "execute_result",
     "execution_count": 222
    }
   ],
   "source": [
    "toronto_merged.loc[toronto_merged['Cluster Labels'] == 2, toronto_merged.columns[[2] + list(range(5, toronto_merged.shape[1]))]]"
   ],
   "metadata": {
    "collapsed": false,
    "pycharm": {
     "name": "#%%\n",
     "is_executing": false
    }
   }
  },
  {
   "cell_type": "markdown",
   "source": [
    "#### Clusters 4\n"
   ],
   "metadata": {
    "collapsed": false,
    "pycharm": {
     "name": "#%% md\n",
     "is_executing": false
    }
   }
  },
  {
   "cell_type": "code",
   "execution_count": 223,
   "outputs": [
    {
     "data": {
      "text/plain": "                                       Neighborhood  Cluster Labels  \\\n51  Cliffside, Cliffcrest, Scarborough Village West             3.0   \n\n   1st Most Common Venue 2nd Most Common Venue 3rd Most Common Venue  \\\n51   American Restaurant                 Motel          Dessert Shop   \n\n   4th Most Common Venue 5th Most Common Venue 6th Most Common Venue  \\\n51                 Diner        Discount Store   Distribution Center   \n\n   7th Most Common Venue 8th Most Common Venue 9th Most Common Venue  \\\n51               Dog Run      Doner Restaurant            Donut Shop   \n\n   10th Most Common Venue  \n51          Women's Store  ",
      "text/html": "<div>\n<style scoped>\n    .dataframe tbody tr th:only-of-type {\n        vertical-align: middle;\n    }\n\n    .dataframe tbody tr th {\n        vertical-align: top;\n    }\n\n    .dataframe thead th {\n        text-align: right;\n    }\n</style>\n<table border=\"1\" class=\"dataframe\">\n  <thead>\n    <tr style=\"text-align: right;\">\n      <th></th>\n      <th>Neighborhood</th>\n      <th>Cluster Labels</th>\n      <th>1st Most Common Venue</th>\n      <th>2nd Most Common Venue</th>\n      <th>3rd Most Common Venue</th>\n      <th>4th Most Common Venue</th>\n      <th>5th Most Common Venue</th>\n      <th>6th Most Common Venue</th>\n      <th>7th Most Common Venue</th>\n      <th>8th Most Common Venue</th>\n      <th>9th Most Common Venue</th>\n      <th>10th Most Common Venue</th>\n    </tr>\n  </thead>\n  <tbody>\n    <tr>\n      <th>51</th>\n      <td>Cliffside, Cliffcrest, Scarborough Village West</td>\n      <td>3.0</td>\n      <td>American Restaurant</td>\n      <td>Motel</td>\n      <td>Dessert Shop</td>\n      <td>Diner</td>\n      <td>Discount Store</td>\n      <td>Distribution Center</td>\n      <td>Dog Run</td>\n      <td>Doner Restaurant</td>\n      <td>Donut Shop</td>\n      <td>Women's Store</td>\n    </tr>\n  </tbody>\n</table>\n</div>"
     },
     "metadata": {},
     "output_type": "execute_result",
     "execution_count": 223
    }
   ],
   "source": [
    "toronto_merged.loc[toronto_merged['Cluster Labels'] == 3, toronto_merged.columns[[2] + list(range(5, toronto_merged.shape[1]))]]"
   ],
   "metadata": {
    "collapsed": false,
    "pycharm": {
     "name": "#%%\n",
     "is_executing": false
    }
   }
  },
  {
   "cell_type": "markdown",
   "source": [
    "#### Clusters 5\n"
   ],
   "metadata": {
    "collapsed": false,
    "pycharm": {
     "name": "#%% md\n"
    }
   }
  },
  {
   "cell_type": "code",
   "execution_count": 224,
   "outputs": [
    {
     "data": {
      "text/plain": "     Neighborhood  Cluster Labels 1st Most Common Venue 2nd Most Common Venue  \\\n6  Malvern, Rouge             4.0  Fast Food Restaurant    Dim Sum Restaurant   \n\n  3rd Most Common Venue 4th Most Common Venue 5th Most Common Venue  \\\n6    Falafel Restaurant           Event Space  Ethiopian Restaurant   \n\n  6th Most Common Venue 7th Most Common Venue        8th Most Common Venue  \\\n6   Empanada Restaurant     Electronics Store  Eastern European Restaurant   \n\n  9th Most Common Venue 10th Most Common Venue  \n6   Dumpling Restaurant              Drugstore  ",
      "text/html": "<div>\n<style scoped>\n    .dataframe tbody tr th:only-of-type {\n        vertical-align: middle;\n    }\n\n    .dataframe tbody tr th {\n        vertical-align: top;\n    }\n\n    .dataframe thead th {\n        text-align: right;\n    }\n</style>\n<table border=\"1\" class=\"dataframe\">\n  <thead>\n    <tr style=\"text-align: right;\">\n      <th></th>\n      <th>Neighborhood</th>\n      <th>Cluster Labels</th>\n      <th>1st Most Common Venue</th>\n      <th>2nd Most Common Venue</th>\n      <th>3rd Most Common Venue</th>\n      <th>4th Most Common Venue</th>\n      <th>5th Most Common Venue</th>\n      <th>6th Most Common Venue</th>\n      <th>7th Most Common Venue</th>\n      <th>8th Most Common Venue</th>\n      <th>9th Most Common Venue</th>\n      <th>10th Most Common Venue</th>\n    </tr>\n  </thead>\n  <tbody>\n    <tr>\n      <th>6</th>\n      <td>Malvern, Rouge</td>\n      <td>4.0</td>\n      <td>Fast Food Restaurant</td>\n      <td>Dim Sum Restaurant</td>\n      <td>Falafel Restaurant</td>\n      <td>Event Space</td>\n      <td>Ethiopian Restaurant</td>\n      <td>Empanada Restaurant</td>\n      <td>Electronics Store</td>\n      <td>Eastern European Restaurant</td>\n      <td>Dumpling Restaurant</td>\n      <td>Drugstore</td>\n    </tr>\n  </tbody>\n</table>\n</div>"
     },
     "metadata": {},
     "output_type": "execute_result",
     "execution_count": 224
    }
   ],
   "source": [
    "toronto_merged.loc[toronto_merged['Cluster Labels'] == 4, toronto_merged.columns[[2] + list(range(5, toronto_merged.shape[1]))]]\n"
   ],
   "metadata": {
    "collapsed": false,
    "pycharm": {
     "name": "#%%\n",
     "is_executing": false
    }
   }
  }
 ],
 "metadata": {
  "kernelspec": {
   "display_name": "Python 3",
   "language": "python",
   "name": "python3"
  },
  "language_info": {
   "codemirror_mode": {
    "name": "ipython",
    "version": 2
   },
   "file_extension": ".py",
   "mimetype": "text/x-python",
   "name": "python",
   "nbconvert_exporter": "python",
   "pygments_lexer": "ipython2",
   "version": "2.7.6"
  },
  "pycharm": {
   "stem_cell": {
    "cell_type": "raw",
    "source": [],
    "metadata": {
     "collapsed": false
    }
   }
  }
 },
 "nbformat": 4,
 "nbformat_minor": 0
}