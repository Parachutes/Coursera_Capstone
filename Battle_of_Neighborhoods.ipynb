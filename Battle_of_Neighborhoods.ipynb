{
 "cells": [
  {
   "cell_type": "markdown",
   "metadata": {
    "collapsed": true,
    "pycharm": {
     "name": "#%% md\n"
    }
   },
   "source": [
    "# The Battle of Neighborhoods\n",
    "### --- What kind of restaurant should I open in Hong Kong?"
   ]
  },
  {
   "cell_type": "code",
   "execution_count": 42,
   "outputs": [],
   "source": [
    "import requests\n",
    "import pandas as pd\n",
    "from bs4 import BeautifulSoup\n",
    "import numpy as np\n",
    "\n",
    "# more libraries to be imported ... "
   ],
   "metadata": {
    "collapsed": false,
    "pycharm": {
     "name": "#%%\n",
     "is_executing": false
    }
   }
  },
  {
   "cell_type": "markdown",
   "source": [
    "****\n",
    "## 1) Introduction"
   ],
   "metadata": {
    "collapsed": false,
    "pycharm": {
     "name": "#%% md\n"
    }
   }
  },
  {
   "cell_type": "markdown",
   "source": [
    "This project aims to give suggestions about what exact kind of restaurant will \n",
    "be the most ideal choice to be open in each district in Hong Kong (18 districts in total) \n",
    "by processing and analyzing data.\n",
    "\n",
    "The data used in the project is mainly obtained from Wikipedia and Foursquare.\n",
    "More details about the data will be discussed in the next section.\n",
    "\n",
    "To achieve what I set out to do, the following steps will be followed:\n",
    "1. Cluster 18 districts into 4 groups based on the similarities between districts and \n",
    "details of each district including the population density, the medium of family monthly\n",
    "income, popular venues, etc.\n",
    "2. Find a particular kind of restaurant which relatively rarely exists in one district\n",
    "but is popular (high score or frequent occurrence) in other districts in the same group.\n",
    "3. Conclude the result.\n"
   ],
   "metadata": {
    "collapsed": false,
    "pycharm": {
     "name": "#%% md\n"
    }
   }
  },
  {
   "cell_type": "markdown",
   "source": [
    "****\n",
    "## 2) Data"
   ],
   "metadata": {
    "collapsed": false,
    "pycharm": {
     "name": "#%% md\n"
    }
   }
  },
  {
   "cell_type": "markdown",
   "source": [
    "This section gives details about the data which is used in the project.\n",
    "\n",
    "Data is mainly derived from four sources."
   ],
   "metadata": {
    "collapsed": false,
    "pycharm": {
     "name": "#%% md\n"
    }
   }
  },
  {
   "cell_type": "markdown",
   "source": [
    "### - Table1: Districts list and other basic information\n",
    "\n",
    "This table contains the name of 18 districts and the population, are, density\n",
    "and region details of each district. This table is scraped from relevant\n",
    "Wikipedia page: https://en.wikipedia.org/wiki/Districts_of_Hong_Kong#Population"
   ],
   "metadata": {
    "collapsed": false,
    "pycharm": {
     "name": "#%% md\n"
    }
   }
  },
  {
   "cell_type": "code",
   "execution_count": 46,
   "outputs": [
    {
     "data": {
      "text/plain": "               District Chinese Population[when?] [6] Area(km²) Density(/km²)  \\\n0   Central and Western     中西區               244,600     12.44     19,983.92   \n1               Eastern      東區               574,500     18.56     31,217.67   \n2              Southern      南區               269,200     38.85      6,962.68   \n3              Wan Chai     灣仔區               150,900      9.83     15,300.10   \n4          Sham Shui Po    深水埗區               390,600      9.35     41,529.41   \n5          Kowloon City    九龍城區               405,400     10.02     40,194.70   \n6             Kwun Tong     觀塘區               641,100     11.27     56,779.05   \n7          Wong Tai Sin    黃大仙區               426,200      9.30     45,645.16   \n8         Yau Tsim Mong    油尖旺區               318,100      6.99     44,864.09   \n9               Islands     離島區               146,900    175.12        825.14   \n10           Kwai Tsing     葵青區               507,100     23.34     21,503.86   \n11                North      北區               310,800    136.61      2,220.19   \n12             Sai Kung     西貢區               448,600    129.65      3,460.08   \n13              Sha Tin     沙田區               648,200     68.71      9,433.85   \n14               Tai Po     大埔區               307,100    136.15      2,220.35   \n15            Tsuen Wan     荃灣區               303,600     61.71      4,887.38   \n16             Tuen Mun     屯門區               495,900     82.89      5,889.38   \n17            Yuen Long     元朗區               607,200    138.46      4,297.99   \n\n              Region  \n0   Hong Kong Island  \n1   Hong Kong Island  \n2   Hong Kong Island  \n3   Hong Kong Island  \n4            Kowloon  \n5            Kowloon  \n6            Kowloon  \n7            Kowloon  \n8            Kowloon  \n9    New Territories  \n10   New Territories  \n11   New Territories  \n12   New Territories  \n13   New Territories  \n14   New Territories  \n15   New Territories  \n16   New Territories  \n17   New Territories  ",
      "text/html": "<div>\n<style scoped>\n    .dataframe tbody tr th:only-of-type {\n        vertical-align: middle;\n    }\n\n    .dataframe tbody tr th {\n        vertical-align: top;\n    }\n\n    .dataframe thead th {\n        text-align: right;\n    }\n</style>\n<table border=\"1\" class=\"dataframe\">\n  <thead>\n    <tr style=\"text-align: right;\">\n      <th></th>\n      <th>District</th>\n      <th>Chinese</th>\n      <th>Population[when?] [6]</th>\n      <th>Area(km²)</th>\n      <th>Density(/km²)</th>\n      <th>Region</th>\n    </tr>\n  </thead>\n  <tbody>\n    <tr>\n      <th>0</th>\n      <td>Central and Western</td>\n      <td>中西區</td>\n      <td>244,600</td>\n      <td>12.44</td>\n      <td>19,983.92</td>\n      <td>Hong Kong Island</td>\n    </tr>\n    <tr>\n      <th>1</th>\n      <td>Eastern</td>\n      <td>東區</td>\n      <td>574,500</td>\n      <td>18.56</td>\n      <td>31,217.67</td>\n      <td>Hong Kong Island</td>\n    </tr>\n    <tr>\n      <th>2</th>\n      <td>Southern</td>\n      <td>南區</td>\n      <td>269,200</td>\n      <td>38.85</td>\n      <td>6,962.68</td>\n      <td>Hong Kong Island</td>\n    </tr>\n    <tr>\n      <th>3</th>\n      <td>Wan Chai</td>\n      <td>灣仔區</td>\n      <td>150,900</td>\n      <td>9.83</td>\n      <td>15,300.10</td>\n      <td>Hong Kong Island</td>\n    </tr>\n    <tr>\n      <th>4</th>\n      <td>Sham Shui Po</td>\n      <td>深水埗區</td>\n      <td>390,600</td>\n      <td>9.35</td>\n      <td>41,529.41</td>\n      <td>Kowloon</td>\n    </tr>\n    <tr>\n      <th>5</th>\n      <td>Kowloon City</td>\n      <td>九龍城區</td>\n      <td>405,400</td>\n      <td>10.02</td>\n      <td>40,194.70</td>\n      <td>Kowloon</td>\n    </tr>\n    <tr>\n      <th>6</th>\n      <td>Kwun Tong</td>\n      <td>觀塘區</td>\n      <td>641,100</td>\n      <td>11.27</td>\n      <td>56,779.05</td>\n      <td>Kowloon</td>\n    </tr>\n    <tr>\n      <th>7</th>\n      <td>Wong Tai Sin</td>\n      <td>黃大仙區</td>\n      <td>426,200</td>\n      <td>9.30</td>\n      <td>45,645.16</td>\n      <td>Kowloon</td>\n    </tr>\n    <tr>\n      <th>8</th>\n      <td>Yau Tsim Mong</td>\n      <td>油尖旺區</td>\n      <td>318,100</td>\n      <td>6.99</td>\n      <td>44,864.09</td>\n      <td>Kowloon</td>\n    </tr>\n    <tr>\n      <th>9</th>\n      <td>Islands</td>\n      <td>離島區</td>\n      <td>146,900</td>\n      <td>175.12</td>\n      <td>825.14</td>\n      <td>New Territories</td>\n    </tr>\n    <tr>\n      <th>10</th>\n      <td>Kwai Tsing</td>\n      <td>葵青區</td>\n      <td>507,100</td>\n      <td>23.34</td>\n      <td>21,503.86</td>\n      <td>New Territories</td>\n    </tr>\n    <tr>\n      <th>11</th>\n      <td>North</td>\n      <td>北區</td>\n      <td>310,800</td>\n      <td>136.61</td>\n      <td>2,220.19</td>\n      <td>New Territories</td>\n    </tr>\n    <tr>\n      <th>12</th>\n      <td>Sai Kung</td>\n      <td>西貢區</td>\n      <td>448,600</td>\n      <td>129.65</td>\n      <td>3,460.08</td>\n      <td>New Territories</td>\n    </tr>\n    <tr>\n      <th>13</th>\n      <td>Sha Tin</td>\n      <td>沙田區</td>\n      <td>648,200</td>\n      <td>68.71</td>\n      <td>9,433.85</td>\n      <td>New Territories</td>\n    </tr>\n    <tr>\n      <th>14</th>\n      <td>Tai Po</td>\n      <td>大埔區</td>\n      <td>307,100</td>\n      <td>136.15</td>\n      <td>2,220.35</td>\n      <td>New Territories</td>\n    </tr>\n    <tr>\n      <th>15</th>\n      <td>Tsuen Wan</td>\n      <td>荃灣區</td>\n      <td>303,600</td>\n      <td>61.71</td>\n      <td>4,887.38</td>\n      <td>New Territories</td>\n    </tr>\n    <tr>\n      <th>16</th>\n      <td>Tuen Mun</td>\n      <td>屯門區</td>\n      <td>495,900</td>\n      <td>82.89</td>\n      <td>5,889.38</td>\n      <td>New Territories</td>\n    </tr>\n    <tr>\n      <th>17</th>\n      <td>Yuen Long</td>\n      <td>元朗區</td>\n      <td>607,200</td>\n      <td>138.46</td>\n      <td>4,297.99</td>\n      <td>New Territories</td>\n    </tr>\n  </tbody>\n</table>\n</div>"
     },
     "metadata": {},
     "output_type": "execute_result",
     "execution_count": 46
    }
   ],
   "source": [
    "# Grab data from wikipedia\n",
    "url='https://en.wikipedia.org/wiki/Districts_of_Hong_Kong#Population'\n",
    "page = requests.get(url)\n",
    "soup = BeautifulSoup(page.content, 'html.parser')\n",
    "tb = soup.find('table', class_='wikitable sortable')\n",
    "# Get columns information\n",
    "columns = []\n",
    "for attributes in tb.find_all('th'):\n",
    "    columns.append(attributes.get_text().strip('\\n'))\n",
    "# Get rows information\n",
    "data_matrix = []\n",
    "for rows in tb.find_all('tr'):\n",
    "    data_vector = []\n",
    "    for cell in rows.find_all('td'):\n",
    "        data_vector.append(cell.get_text().strip('\\n'))\n",
    "    data_matrix.append(data_vector)    \n",
    "data_matrix.pop(0)\n",
    "data_matrix = np.array(data_matrix)\n",
    "# Turn it into dataframe\n",
    "df_data1 = pd.DataFrame(data_matrix, columns = columns)\n",
    "df_data1"
   ],
   "metadata": {
    "collapsed": false,
    "pycharm": {
     "name": "#%%\n",
     "is_executing": false
    }
   }
  },
  {
   "cell_type": "markdown",
   "source": [
    "### - Table2: The information about levels of income in each district\n",
    "\n",
    "The second table presents the medium of the family monthly income in each district. This\n",
    "data is from a piece of news http://www.orangenews.hk/finance/system/2017/02/28/010053713.shtml.\n",
    "The original information is an image so I manually noted it down and turned it into a csv file\n",
    "and stored it in IncomeHK.csv.\n"
   ],
   "metadata": {
    "collapsed": false,
    "pycharm": {
     "name": "#%% md\n",
     "is_executing": false
    }
   }
  },
  {
   "cell_type": "code",
   "execution_count": 48,
   "outputs": [
    {
     "data": {
      "text/plain": "               District  Income\n0   Central and Western   36000\n1               Eastern   29830\n2              Southern   30000\n3              Wan Chai   37750\n4          Sham Shui Po   20000\n5          Kowloon City   25550\n6             Kwun Tong   20160\n7          Wong Tai Sin   22000\n8         Yau Tsim Mong   23500\n9               Islands   27700\n10           Kwai Tsing   21600\n11                North   21500\n12             Sai Kung   32470\n13              Sha Tin   27180\n14               Tai Po   27000\n15            Tsuen Wan   28800\n16             Tuen Mun   22000\n17            Yuen Long   23000",
      "text/html": "<div>\n<style scoped>\n    .dataframe tbody tr th:only-of-type {\n        vertical-align: middle;\n    }\n\n    .dataframe tbody tr th {\n        vertical-align: top;\n    }\n\n    .dataframe thead th {\n        text-align: right;\n    }\n</style>\n<table border=\"1\" class=\"dataframe\">\n  <thead>\n    <tr style=\"text-align: right;\">\n      <th></th>\n      <th>District</th>\n      <th>Income</th>\n    </tr>\n  </thead>\n  <tbody>\n    <tr>\n      <th>0</th>\n      <td>Central and Western</td>\n      <td>36000</td>\n    </tr>\n    <tr>\n      <th>1</th>\n      <td>Eastern</td>\n      <td>29830</td>\n    </tr>\n    <tr>\n      <th>2</th>\n      <td>Southern</td>\n      <td>30000</td>\n    </tr>\n    <tr>\n      <th>3</th>\n      <td>Wan Chai</td>\n      <td>37750</td>\n    </tr>\n    <tr>\n      <th>4</th>\n      <td>Sham Shui Po</td>\n      <td>20000</td>\n    </tr>\n    <tr>\n      <th>5</th>\n      <td>Kowloon City</td>\n      <td>25550</td>\n    </tr>\n    <tr>\n      <th>6</th>\n      <td>Kwun Tong</td>\n      <td>20160</td>\n    </tr>\n    <tr>\n      <th>7</th>\n      <td>Wong Tai Sin</td>\n      <td>22000</td>\n    </tr>\n    <tr>\n      <th>8</th>\n      <td>Yau Tsim Mong</td>\n      <td>23500</td>\n    </tr>\n    <tr>\n      <th>9</th>\n      <td>Islands</td>\n      <td>27700</td>\n    </tr>\n    <tr>\n      <th>10</th>\n      <td>Kwai Tsing</td>\n      <td>21600</td>\n    </tr>\n    <tr>\n      <th>11</th>\n      <td>North</td>\n      <td>21500</td>\n    </tr>\n    <tr>\n      <th>12</th>\n      <td>Sai Kung</td>\n      <td>32470</td>\n    </tr>\n    <tr>\n      <th>13</th>\n      <td>Sha Tin</td>\n      <td>27180</td>\n    </tr>\n    <tr>\n      <th>14</th>\n      <td>Tai Po</td>\n      <td>27000</td>\n    </tr>\n    <tr>\n      <th>15</th>\n      <td>Tsuen Wan</td>\n      <td>28800</td>\n    </tr>\n    <tr>\n      <th>16</th>\n      <td>Tuen Mun</td>\n      <td>22000</td>\n    </tr>\n    <tr>\n      <th>17</th>\n      <td>Yuen Long</td>\n      <td>23000</td>\n    </tr>\n  </tbody>\n</table>\n</div>"
     },
     "metadata": {},
     "output_type": "execute_result",
     "execution_count": 48
    }
   ],
   "source": [
    "df_data2 = pd.read_csv('IncomeHK.csv')\n",
    "df_data2\n"
   ],
   "metadata": {
    "collapsed": false,
    "pycharm": {
     "name": "#%%\n",
     "is_executing": false
    }
   }
  },
  {
   "cell_type": "markdown",
   "source": [
    "### - Table3: The coordinates of districts\n",
    "\n",
    "This table contains information of coordinates of 18 districts. Each coordinate is obtained\n",
    "from each district's own wiki page. I manually noted it down and turned it into a csv file\n",
    "and stored it in CoordinatesHK.csv."
   ],
   "metadata": {
    "collapsed": false
   }
  },
  {
   "cell_type": "code",
   "execution_count": 49,
   "outputs": [
    {
     "data": {
      "text/plain": "               District  Latitude   Longitude\n0   Central and Western  22.28666  114.154970\n1               Eastern  22.28411  114.224140\n2              Southern  22.24725  114.158840\n3              Wan Chai  22.27968  114.171680\n4          Sham Shui Po  22.33074  114.162200\n5          Kowloon City  22.32820  114.191550\n6             Kwun Tong  22.31326  114.225810\n7          Wong Tai Sin  22.33353  114.196860\n8         Yau Tsim Mong  22.32138  114.172600\n9               Islands  22.26114  113.946080\n10           Kwai Tsing  22.35488  114.084010\n11                North  22.49471  114.138120\n12             Sai Kung  22.38143  114.270520\n13              Sha Tin  22.38715  114.195340\n14               Tai Po  22.45085  114.164220\n15            Tsuen Wan  22.36281  114.129070\n16             Tuen Mun  22.39163  113.977089\n17            Yuen Long  22.44559  114.022180",
      "text/html": "<div>\n<style scoped>\n    .dataframe tbody tr th:only-of-type {\n        vertical-align: middle;\n    }\n\n    .dataframe tbody tr th {\n        vertical-align: top;\n    }\n\n    .dataframe thead th {\n        text-align: right;\n    }\n</style>\n<table border=\"1\" class=\"dataframe\">\n  <thead>\n    <tr style=\"text-align: right;\">\n      <th></th>\n      <th>District</th>\n      <th>Latitude</th>\n      <th>Longitude</th>\n    </tr>\n  </thead>\n  <tbody>\n    <tr>\n      <th>0</th>\n      <td>Central and Western</td>\n      <td>22.28666</td>\n      <td>114.154970</td>\n    </tr>\n    <tr>\n      <th>1</th>\n      <td>Eastern</td>\n      <td>22.28411</td>\n      <td>114.224140</td>\n    </tr>\n    <tr>\n      <th>2</th>\n      <td>Southern</td>\n      <td>22.24725</td>\n      <td>114.158840</td>\n    </tr>\n    <tr>\n      <th>3</th>\n      <td>Wan Chai</td>\n      <td>22.27968</td>\n      <td>114.171680</td>\n    </tr>\n    <tr>\n      <th>4</th>\n      <td>Sham Shui Po</td>\n      <td>22.33074</td>\n      <td>114.162200</td>\n    </tr>\n    <tr>\n      <th>5</th>\n      <td>Kowloon City</td>\n      <td>22.32820</td>\n      <td>114.191550</td>\n    </tr>\n    <tr>\n      <th>6</th>\n      <td>Kwun Tong</td>\n      <td>22.31326</td>\n      <td>114.225810</td>\n    </tr>\n    <tr>\n      <th>7</th>\n      <td>Wong Tai Sin</td>\n      <td>22.33353</td>\n      <td>114.196860</td>\n    </tr>\n    <tr>\n      <th>8</th>\n      <td>Yau Tsim Mong</td>\n      <td>22.32138</td>\n      <td>114.172600</td>\n    </tr>\n    <tr>\n      <th>9</th>\n      <td>Islands</td>\n      <td>22.26114</td>\n      <td>113.946080</td>\n    </tr>\n    <tr>\n      <th>10</th>\n      <td>Kwai Tsing</td>\n      <td>22.35488</td>\n      <td>114.084010</td>\n    </tr>\n    <tr>\n      <th>11</th>\n      <td>North</td>\n      <td>22.49471</td>\n      <td>114.138120</td>\n    </tr>\n    <tr>\n      <th>12</th>\n      <td>Sai Kung</td>\n      <td>22.38143</td>\n      <td>114.270520</td>\n    </tr>\n    <tr>\n      <th>13</th>\n      <td>Sha Tin</td>\n      <td>22.38715</td>\n      <td>114.195340</td>\n    </tr>\n    <tr>\n      <th>14</th>\n      <td>Tai Po</td>\n      <td>22.45085</td>\n      <td>114.164220</td>\n    </tr>\n    <tr>\n      <th>15</th>\n      <td>Tsuen Wan</td>\n      <td>22.36281</td>\n      <td>114.129070</td>\n    </tr>\n    <tr>\n      <th>16</th>\n      <td>Tuen Mun</td>\n      <td>22.39163</td>\n      <td>113.977089</td>\n    </tr>\n    <tr>\n      <th>17</th>\n      <td>Yuen Long</td>\n      <td>22.44559</td>\n      <td>114.022180</td>\n    </tr>\n  </tbody>\n</table>\n</div>"
     },
     "metadata": {},
     "output_type": "execute_result",
     "execution_count": 49
    }
   ],
   "source": [
    "df_data3 = pd.read_csv('CoordinatesHK.csv')\n",
    "df_data3"
   ],
   "metadata": {
    "collapsed": false,
    "pycharm": {
     "name": "#%%\n",
     "is_executing": false
    }
   }
  },
  {
   "cell_type": "markdown",
   "source": [
    "### - Table4: The venues in each district\n",
    "\n",
    "This data is from Foursquare API based on the coordinates information from the\n",
    "Table3. Venues details in each district are included in the data.\n"
   ],
   "metadata": {
    "collapsed": false
   }
  },
  {
   "cell_type": "code",
   "execution_count": 55,
   "outputs": [],
   "source": [
    "# @hidden_cell\n",
    "CLIENT_ID = 'SSS2KPOGP3JYSRAXNVGMAOJQ0K4LZHN1EN2S3W2PMRSPSZ1X' \n",
    "CLIENT_SECRET = 'ZUGXHFHCYCPGOIV2RZNAJSE4LP4NXQTIFKPV0QCSU2KCSXBL' \n",
    "VERSION = '20180605' \n",
    "\n",
    "venues_dict = {}\n",
    "for index, row in df_data3.iterrows():\n",
    "    \n",
    "    neighborhood_latitude = row['Latitude']\n",
    "    neighborhood_longitude = row['Longitude']\n",
    "    LIMIT = 50 # limit of number of venues returned by Foursquare API\n",
    "    radius = 500 # define radius\n",
    "    url = 'https://api.foursquare.com/v2/venues/explore?&client_id={}&client_secret={}&v={}&ll={},{}&radius={}&limit={}'.format(\n",
    "        CLIENT_ID, \n",
    "        CLIENT_SECRET, \n",
    "        VERSION, \n",
    "        neighborhood_latitude, \n",
    "        neighborhood_longitude, \n",
    "        radius, \n",
    "        LIMIT)\n",
    "    results = requests.get(url).json()\n",
    "    venues_dict[row['District']] = results\n"
   ],
   "metadata": {
    "collapsed": false,
    "pycharm": {
     "name": "#%%\n",
     "is_executing": false
    }
   }
  },
  {
   "cell_type": "markdown",
   "source": [
    "****\n",
    "## 3) Methodology\n",
    "\n",
    "TODO...\n",
    "\n",
    "\n",
    "\n"
   ],
   "metadata": {
    "collapsed": false
   }
  }
 ],
 "metadata": {
  "kernelspec": {
   "display_name": "Python 3",
   "language": "python",
   "name": "python3"
  },
  "language_info": {
   "codemirror_mode": {
    "name": "ipython",
    "version": 2
   },
   "file_extension": ".py",
   "mimetype": "text/x-python",
   "name": "python",
   "nbconvert_exporter": "python",
   "pygments_lexer": "ipython2",
   "version": "2.7.6"
  },
  "pycharm": {
   "stem_cell": {
    "cell_type": "raw",
    "source": [],
    "metadata": {
     "collapsed": false
    }
   }
  }
 },
 "nbformat": 4,
 "nbformat_minor": 0
}